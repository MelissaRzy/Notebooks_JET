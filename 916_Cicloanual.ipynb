{
 "cells": [
  {
   "cell_type": "markdown",
   "id": "52bfc4b9-89b1-45f3-bffc-d55e0a852e78",
   "metadata": {},
   "source": [
    "----\n",
    "## **<font color=\"crimson\"> Ya ok </font>**"
   ]
  },
  {
   "cell_type": "code",
   "execution_count": 1,
   "id": "747e2046-8468-48ae-a34b-8354e3bfa7dc",
   "metadata": {},
   "outputs": [
    {
     "name": "stdout",
     "output_type": "stream",
     "text": [
      "Requirement already satisfied: toolz in /opt/conda/lib/python3.11/site-packages (1.0.0)\n",
      "Note: you may need to restart the kernel to use updated packages.\n"
     ]
    }
   ],
   "source": [
    "pip install toolz"
   ]
  },
  {
   "cell_type": "code",
   "execution_count": 2,
   "id": "3c0f7815-c6db-4bf6-9a9b-66599bef200b",
   "metadata": {
    "scrolled": true
   },
   "outputs": [
    {
     "name": "stdout",
     "output_type": "stream",
     "text": [
      "Requirement already satisfied: xarray in /opt/conda/lib/python3.11/site-packages (2025.4.0)\n",
      "Requirement already satisfied: numpy>=1.24 in /home/jovyan/.local/lib/python3.11/site-packages (from xarray) (1.26.4)\n",
      "Requirement already satisfied: packaging>=23.2 in /opt/conda/lib/python3.11/site-packages (from xarray) (23.2)\n",
      "Requirement already satisfied: pandas>=2.1 in /opt/conda/lib/python3.11/site-packages (from xarray) (2.2.3)\n",
      "Requirement already satisfied: python-dateutil>=2.8.2 in /opt/conda/lib/python3.11/site-packages (from pandas>=2.1->xarray) (2.8.2)\n",
      "Requirement already satisfied: pytz>=2020.1 in /opt/conda/lib/python3.11/site-packages (from pandas>=2.1->xarray) (2023.3.post1)\n",
      "Requirement already satisfied: tzdata>=2022.7 in /opt/conda/lib/python3.11/site-packages (from pandas>=2.1->xarray) (2024.2)\n",
      "Requirement already satisfied: six>=1.5 in /opt/conda/lib/python3.11/site-packages (from python-dateutil>=2.8.2->pandas>=2.1->xarray) (1.16.0)\n",
      "Note: you may need to restart the kernel to use updated packages.\n"
     ]
    }
   ],
   "source": [
    "pip install xarray"
   ]
  },
  {
   "cell_type": "code",
   "execution_count": 3,
   "id": "4ac738a1-1260-456d-bba6-aafa0353ffed",
   "metadata": {
    "scrolled": true
   },
   "outputs": [
    {
     "name": "stdout",
     "output_type": "stream",
     "text": [
      "Requirement already satisfied: netcdf4 in /home/jovyan/.local/lib/python3.11/site-packages (1.7.1.post2)\n",
      "Requirement already satisfied: cftime in /opt/conda/lib/python3.11/site-packages (from netcdf4) (1.6.4.post1)\n",
      "Requirement already satisfied: certifi in /opt/conda/lib/python3.11/site-packages (from netcdf4) (2023.7.22)\n",
      "Requirement already satisfied: numpy in /home/jovyan/.local/lib/python3.11/site-packages (from netcdf4) (1.26.4)\n",
      "Note: you may need to restart the kernel to use updated packages.\n"
     ]
    }
   ],
   "source": [
    "pip install netcdf4"
   ]
  },
  {
   "cell_type": "code",
   "execution_count": 4,
   "id": "f33bf5e1-7246-4d8b-b5bc-9e43668ad769",
   "metadata": {
    "scrolled": true
   },
   "outputs": [
    {
     "name": "stdout",
     "output_type": "stream",
     "text": [
      "Requirement already satisfied: h5netcdf in /opt/conda/lib/python3.11/site-packages (1.6.1)\n",
      "Requirement already satisfied: h5py in /opt/conda/lib/python3.11/site-packages (from h5netcdf) (3.13.0)\n",
      "Requirement already satisfied: packaging in /opt/conda/lib/python3.11/site-packages (from h5netcdf) (23.2)\n",
      "Requirement already satisfied: numpy>=1.19.3 in /home/jovyan/.local/lib/python3.11/site-packages (from h5py->h5netcdf) (1.26.4)\n",
      "Note: you may need to restart the kernel to use updated packages.\n"
     ]
    }
   ],
   "source": [
    "pip install h5netcdf "
   ]
  },
  {
   "cell_type": "code",
   "execution_count": 5,
   "id": "5db8a05c-86ca-440d-99f1-fc831f67943f",
   "metadata": {
    "scrolled": true
   },
   "outputs": [
    {
     "name": "stdout",
     "output_type": "stream",
     "text": [
      "Requirement already satisfied: cftime in /opt/conda/lib/python3.11/site-packages (1.6.4.post1)\n",
      "Requirement already satisfied: numpy>1.13.3 in /home/jovyan/.local/lib/python3.11/site-packages (from cftime) (1.26.4)\n",
      "Note: you may need to restart the kernel to use updated packages.\n"
     ]
    }
   ],
   "source": [
    "pip install cftime"
   ]
  },
  {
   "cell_type": "code",
   "execution_count": 6,
   "id": "ca7485e3",
   "metadata": {},
   "outputs": [],
   "source": [
    "import xarray as xr\n",
    "import numpy as np\n",
    "import datetime\n",
    "import matplotlib.pyplot as plt\n",
    "import pandas as pd"
   ]
  },
  {
   "cell_type": "markdown",
   "id": "d91b80b3-10e8-4f5b-a7f2-e5444b2aed86",
   "metadata": {},
   "source": [
    "## **<font color=\"Purple\"> Datos de HadGEM3 </font>**"
   ]
  },
  {
   "cell_type": "markdown",
   "id": "b7da0089-622f-4fce-8752-808d5f5951cd",
   "metadata": {},
   "source": [
    "##### **<font color=\"olive\"> Temperatura </font>**"
   ]
  },
  {
   "cell_type": "code",
   "execution_count": 7,
   "id": "eb3773de-135c-424e-9c75-4c01e304537b",
   "metadata": {},
   "outputs": [],
   "source": [
    "tas_file = 'datasetsok/tasday79.nc'"
   ]
  },
  {
   "cell_type": "code",
   "execution_count": 8,
   "id": "268e63b3-2388-4691-8a57-846436ff38fe",
   "metadata": {
    "scrolled": true
   },
   "outputs": [
    {
     "ename": "FileNotFoundError",
     "evalue": "[Errno 2] No such file or directory: '/home/jovyan/Notebooks_JET/datasets/tasday79.nc'",
     "output_type": "error",
     "traceback": [
      "\u001b[0;31m---------------------------------------------------------------------------\u001b[0m",
      "\u001b[0;31mKeyError\u001b[0m                                  Traceback (most recent call last)",
      "File \u001b[0;32m/opt/conda/lib/python3.11/site-packages/xarray/backends/file_manager.py:211\u001b[0m, in \u001b[0;36mCachingFileManager._acquire_with_cache_info\u001b[0;34m(self, needs_lock)\u001b[0m\n\u001b[1;32m    210\u001b[0m \u001b[38;5;28;01mtry\u001b[39;00m:\n\u001b[0;32m--> 211\u001b[0m     file \u001b[38;5;241m=\u001b[39m \u001b[38;5;28;43mself\u001b[39;49m\u001b[38;5;241;43m.\u001b[39;49m\u001b[43m_cache\u001b[49m\u001b[43m[\u001b[49m\u001b[38;5;28;43mself\u001b[39;49m\u001b[38;5;241;43m.\u001b[39;49m\u001b[43m_key\u001b[49m\u001b[43m]\u001b[49m\n\u001b[1;32m    212\u001b[0m \u001b[38;5;28;01mexcept\u001b[39;00m \u001b[38;5;167;01mKeyError\u001b[39;00m:\n",
      "File \u001b[0;32m/opt/conda/lib/python3.11/site-packages/xarray/backends/lru_cache.py:56\u001b[0m, in \u001b[0;36mLRUCache.__getitem__\u001b[0;34m(self, key)\u001b[0m\n\u001b[1;32m     55\u001b[0m \u001b[38;5;28;01mwith\u001b[39;00m \u001b[38;5;28mself\u001b[39m\u001b[38;5;241m.\u001b[39m_lock:\n\u001b[0;32m---> 56\u001b[0m     value \u001b[38;5;241m=\u001b[39m \u001b[38;5;28;43mself\u001b[39;49m\u001b[38;5;241;43m.\u001b[39;49m\u001b[43m_cache\u001b[49m\u001b[43m[\u001b[49m\u001b[43mkey\u001b[49m\u001b[43m]\u001b[49m\n\u001b[1;32m     57\u001b[0m     \u001b[38;5;28mself\u001b[39m\u001b[38;5;241m.\u001b[39m_cache\u001b[38;5;241m.\u001b[39mmove_to_end(key)\n",
      "\u001b[0;31mKeyError\u001b[0m: [<class 'netCDF4._netCDF4.Dataset'>, ('/home/jovyan/Notebooks_JET/datasets/tasday79.nc',), 'r', (('clobber', True), ('diskless', False), ('format', 'NETCDF4'), ('persist', False)), '3f52c630-79af-45a5-b22f-40c8e00d6fc8']",
      "\nDuring handling of the above exception, another exception occurred:\n",
      "\u001b[0;31mFileNotFoundError\u001b[0m                         Traceback (most recent call last)",
      "Cell \u001b[0;32mIn[8], line 1\u001b[0m\n\u001b[0;32m----> 1\u001b[0m tas_ds\u001b[38;5;241m=\u001b[39m\u001b[43mxr\u001b[49m\u001b[38;5;241;43m.\u001b[39;49m\u001b[43mopen_dataset\u001b[49m\u001b[43m(\u001b[49m\u001b[43mtas_file\u001b[49m\u001b[43m)\u001b[49m\n\u001b[1;32m      2\u001b[0m tas\u001b[38;5;241m=\u001b[39mtas_ds[\u001b[38;5;124m'\u001b[39m\u001b[38;5;124mtas\u001b[39m\u001b[38;5;124m'\u001b[39m]\n",
      "File \u001b[0;32m/opt/conda/lib/python3.11/site-packages/xarray/backends/api.py:687\u001b[0m, in \u001b[0;36mopen_dataset\u001b[0;34m(filename_or_obj, engine, chunks, cache, decode_cf, mask_and_scale, decode_times, decode_timedelta, use_cftime, concat_characters, decode_coords, drop_variables, inline_array, chunked_array_type, from_array_kwargs, backend_kwargs, **kwargs)\u001b[0m\n\u001b[1;32m    675\u001b[0m decoders \u001b[38;5;241m=\u001b[39m _resolve_decoders_kwargs(\n\u001b[1;32m    676\u001b[0m     decode_cf,\n\u001b[1;32m    677\u001b[0m     open_backend_dataset_parameters\u001b[38;5;241m=\u001b[39mbackend\u001b[38;5;241m.\u001b[39mopen_dataset_parameters,\n\u001b[0;32m   (...)\u001b[0m\n\u001b[1;32m    683\u001b[0m     decode_coords\u001b[38;5;241m=\u001b[39mdecode_coords,\n\u001b[1;32m    684\u001b[0m )\n\u001b[1;32m    686\u001b[0m overwrite_encoded_chunks \u001b[38;5;241m=\u001b[39m kwargs\u001b[38;5;241m.\u001b[39mpop(\u001b[38;5;124m\"\u001b[39m\u001b[38;5;124moverwrite_encoded_chunks\u001b[39m\u001b[38;5;124m\"\u001b[39m, \u001b[38;5;28;01mNone\u001b[39;00m)\n\u001b[0;32m--> 687\u001b[0m backend_ds \u001b[38;5;241m=\u001b[39m \u001b[43mbackend\u001b[49m\u001b[38;5;241;43m.\u001b[39;49m\u001b[43mopen_dataset\u001b[49m\u001b[43m(\u001b[49m\n\u001b[1;32m    688\u001b[0m \u001b[43m    \u001b[49m\u001b[43mfilename_or_obj\u001b[49m\u001b[43m,\u001b[49m\n\u001b[1;32m    689\u001b[0m \u001b[43m    \u001b[49m\u001b[43mdrop_variables\u001b[49m\u001b[38;5;241;43m=\u001b[39;49m\u001b[43mdrop_variables\u001b[49m\u001b[43m,\u001b[49m\n\u001b[1;32m    690\u001b[0m \u001b[43m    \u001b[49m\u001b[38;5;241;43m*\u001b[39;49m\u001b[38;5;241;43m*\u001b[39;49m\u001b[43mdecoders\u001b[49m\u001b[43m,\u001b[49m\n\u001b[1;32m    691\u001b[0m \u001b[43m    \u001b[49m\u001b[38;5;241;43m*\u001b[39;49m\u001b[38;5;241;43m*\u001b[39;49m\u001b[43mkwargs\u001b[49m\u001b[43m,\u001b[49m\n\u001b[1;32m    692\u001b[0m \u001b[43m\u001b[49m\u001b[43m)\u001b[49m\n\u001b[1;32m    693\u001b[0m ds \u001b[38;5;241m=\u001b[39m _dataset_from_backend_dataset(\n\u001b[1;32m    694\u001b[0m     backend_ds,\n\u001b[1;32m    695\u001b[0m     filename_or_obj,\n\u001b[0;32m   (...)\u001b[0m\n\u001b[1;32m    705\u001b[0m     \u001b[38;5;241m*\u001b[39m\u001b[38;5;241m*\u001b[39mkwargs,\n\u001b[1;32m    706\u001b[0m )\n\u001b[1;32m    707\u001b[0m \u001b[38;5;28;01mreturn\u001b[39;00m ds\n",
      "File \u001b[0;32m/opt/conda/lib/python3.11/site-packages/xarray/backends/netCDF4_.py:666\u001b[0m, in \u001b[0;36mNetCDF4BackendEntrypoint.open_dataset\u001b[0;34m(self, filename_or_obj, mask_and_scale, decode_times, concat_characters, decode_coords, drop_variables, use_cftime, decode_timedelta, group, mode, format, clobber, diskless, persist, auto_complex, lock, autoclose)\u001b[0m\n\u001b[1;32m    644\u001b[0m \u001b[38;5;28;01mdef\u001b[39;00m \u001b[38;5;21mopen_dataset\u001b[39m(\n\u001b[1;32m    645\u001b[0m     \u001b[38;5;28mself\u001b[39m,\n\u001b[1;32m    646\u001b[0m     filename_or_obj: \u001b[38;5;28mstr\u001b[39m \u001b[38;5;241m|\u001b[39m os\u001b[38;5;241m.\u001b[39mPathLike[Any] \u001b[38;5;241m|\u001b[39m ReadBuffer \u001b[38;5;241m|\u001b[39m AbstractDataStore,\n\u001b[0;32m   (...)\u001b[0m\n\u001b[1;32m    663\u001b[0m     autoclose\u001b[38;5;241m=\u001b[39m\u001b[38;5;28;01mFalse\u001b[39;00m,\n\u001b[1;32m    664\u001b[0m ) \u001b[38;5;241m-\u001b[39m\u001b[38;5;241m>\u001b[39m Dataset:\n\u001b[1;32m    665\u001b[0m     filename_or_obj \u001b[38;5;241m=\u001b[39m _normalize_path(filename_or_obj)\n\u001b[0;32m--> 666\u001b[0m     store \u001b[38;5;241m=\u001b[39m \u001b[43mNetCDF4DataStore\u001b[49m\u001b[38;5;241;43m.\u001b[39;49m\u001b[43mopen\u001b[49m\u001b[43m(\u001b[49m\n\u001b[1;32m    667\u001b[0m \u001b[43m        \u001b[49m\u001b[43mfilename_or_obj\u001b[49m\u001b[43m,\u001b[49m\n\u001b[1;32m    668\u001b[0m \u001b[43m        \u001b[49m\u001b[43mmode\u001b[49m\u001b[38;5;241;43m=\u001b[39;49m\u001b[43mmode\u001b[49m\u001b[43m,\u001b[49m\n\u001b[1;32m    669\u001b[0m \u001b[43m        \u001b[49m\u001b[38;5;28;43mformat\u001b[39;49m\u001b[38;5;241;43m=\u001b[39;49m\u001b[38;5;28;43mformat\u001b[39;49m\u001b[43m,\u001b[49m\n\u001b[1;32m    670\u001b[0m \u001b[43m        \u001b[49m\u001b[43mgroup\u001b[49m\u001b[38;5;241;43m=\u001b[39;49m\u001b[43mgroup\u001b[49m\u001b[43m,\u001b[49m\n\u001b[1;32m    671\u001b[0m \u001b[43m        \u001b[49m\u001b[43mclobber\u001b[49m\u001b[38;5;241;43m=\u001b[39;49m\u001b[43mclobber\u001b[49m\u001b[43m,\u001b[49m\n\u001b[1;32m    672\u001b[0m \u001b[43m        \u001b[49m\u001b[43mdiskless\u001b[49m\u001b[38;5;241;43m=\u001b[39;49m\u001b[43mdiskless\u001b[49m\u001b[43m,\u001b[49m\n\u001b[1;32m    673\u001b[0m \u001b[43m        \u001b[49m\u001b[43mpersist\u001b[49m\u001b[38;5;241;43m=\u001b[39;49m\u001b[43mpersist\u001b[49m\u001b[43m,\u001b[49m\n\u001b[1;32m    674\u001b[0m \u001b[43m        \u001b[49m\u001b[43mauto_complex\u001b[49m\u001b[38;5;241;43m=\u001b[39;49m\u001b[43mauto_complex\u001b[49m\u001b[43m,\u001b[49m\n\u001b[1;32m    675\u001b[0m \u001b[43m        \u001b[49m\u001b[43mlock\u001b[49m\u001b[38;5;241;43m=\u001b[39;49m\u001b[43mlock\u001b[49m\u001b[43m,\u001b[49m\n\u001b[1;32m    676\u001b[0m \u001b[43m        \u001b[49m\u001b[43mautoclose\u001b[49m\u001b[38;5;241;43m=\u001b[39;49m\u001b[43mautoclose\u001b[49m\u001b[43m,\u001b[49m\n\u001b[1;32m    677\u001b[0m \u001b[43m    \u001b[49m\u001b[43m)\u001b[49m\n\u001b[1;32m    679\u001b[0m     store_entrypoint \u001b[38;5;241m=\u001b[39m StoreBackendEntrypoint()\n\u001b[1;32m    680\u001b[0m     \u001b[38;5;28;01mwith\u001b[39;00m close_on_error(store):\n",
      "File \u001b[0;32m/opt/conda/lib/python3.11/site-packages/xarray/backends/netCDF4_.py:452\u001b[0m, in \u001b[0;36mNetCDF4DataStore.open\u001b[0;34m(cls, filename, mode, format, group, clobber, diskless, persist, auto_complex, lock, lock_maker, autoclose)\u001b[0m\n\u001b[1;32m    448\u001b[0m     kwargs[\u001b[38;5;124m\"\u001b[39m\u001b[38;5;124mauto_complex\u001b[39m\u001b[38;5;124m\"\u001b[39m] \u001b[38;5;241m=\u001b[39m auto_complex\n\u001b[1;32m    449\u001b[0m manager \u001b[38;5;241m=\u001b[39m CachingFileManager(\n\u001b[1;32m    450\u001b[0m     netCDF4\u001b[38;5;241m.\u001b[39mDataset, filename, mode\u001b[38;5;241m=\u001b[39mmode, kwargs\u001b[38;5;241m=\u001b[39mkwargs\n\u001b[1;32m    451\u001b[0m )\n\u001b[0;32m--> 452\u001b[0m \u001b[38;5;28;01mreturn\u001b[39;00m \u001b[38;5;28;43mcls\u001b[39;49m\u001b[43m(\u001b[49m\u001b[43mmanager\u001b[49m\u001b[43m,\u001b[49m\u001b[43m \u001b[49m\u001b[43mgroup\u001b[49m\u001b[38;5;241;43m=\u001b[39;49m\u001b[43mgroup\u001b[49m\u001b[43m,\u001b[49m\u001b[43m \u001b[49m\u001b[43mmode\u001b[49m\u001b[38;5;241;43m=\u001b[39;49m\u001b[43mmode\u001b[49m\u001b[43m,\u001b[49m\u001b[43m \u001b[49m\u001b[43mlock\u001b[49m\u001b[38;5;241;43m=\u001b[39;49m\u001b[43mlock\u001b[49m\u001b[43m,\u001b[49m\u001b[43m \u001b[49m\u001b[43mautoclose\u001b[49m\u001b[38;5;241;43m=\u001b[39;49m\u001b[43mautoclose\u001b[49m\u001b[43m)\u001b[49m\n",
      "File \u001b[0;32m/opt/conda/lib/python3.11/site-packages/xarray/backends/netCDF4_.py:393\u001b[0m, in \u001b[0;36mNetCDF4DataStore.__init__\u001b[0;34m(self, manager, group, mode, lock, autoclose)\u001b[0m\n\u001b[1;32m    391\u001b[0m \u001b[38;5;28mself\u001b[39m\u001b[38;5;241m.\u001b[39m_group \u001b[38;5;241m=\u001b[39m group\n\u001b[1;32m    392\u001b[0m \u001b[38;5;28mself\u001b[39m\u001b[38;5;241m.\u001b[39m_mode \u001b[38;5;241m=\u001b[39m mode\n\u001b[0;32m--> 393\u001b[0m \u001b[38;5;28mself\u001b[39m\u001b[38;5;241m.\u001b[39mformat \u001b[38;5;241m=\u001b[39m \u001b[38;5;28;43mself\u001b[39;49m\u001b[38;5;241;43m.\u001b[39;49m\u001b[43mds\u001b[49m\u001b[38;5;241m.\u001b[39mdata_model\n\u001b[1;32m    394\u001b[0m \u001b[38;5;28mself\u001b[39m\u001b[38;5;241m.\u001b[39m_filename \u001b[38;5;241m=\u001b[39m \u001b[38;5;28mself\u001b[39m\u001b[38;5;241m.\u001b[39mds\u001b[38;5;241m.\u001b[39mfilepath()\n\u001b[1;32m    395\u001b[0m \u001b[38;5;28mself\u001b[39m\u001b[38;5;241m.\u001b[39mis_remote \u001b[38;5;241m=\u001b[39m is_remote_uri(\u001b[38;5;28mself\u001b[39m\u001b[38;5;241m.\u001b[39m_filename)\n",
      "File \u001b[0;32m/opt/conda/lib/python3.11/site-packages/xarray/backends/netCDF4_.py:461\u001b[0m, in \u001b[0;36mNetCDF4DataStore.ds\u001b[0;34m(self)\u001b[0m\n\u001b[1;32m    459\u001b[0m \u001b[38;5;129m@property\u001b[39m\n\u001b[1;32m    460\u001b[0m \u001b[38;5;28;01mdef\u001b[39;00m \u001b[38;5;21mds\u001b[39m(\u001b[38;5;28mself\u001b[39m):\n\u001b[0;32m--> 461\u001b[0m     \u001b[38;5;28;01mreturn\u001b[39;00m \u001b[38;5;28;43mself\u001b[39;49m\u001b[38;5;241;43m.\u001b[39;49m\u001b[43m_acquire\u001b[49m\u001b[43m(\u001b[49m\u001b[43m)\u001b[49m\n",
      "File \u001b[0;32m/opt/conda/lib/python3.11/site-packages/xarray/backends/netCDF4_.py:455\u001b[0m, in \u001b[0;36mNetCDF4DataStore._acquire\u001b[0;34m(self, needs_lock)\u001b[0m\n\u001b[1;32m    454\u001b[0m \u001b[38;5;28;01mdef\u001b[39;00m \u001b[38;5;21m_acquire\u001b[39m(\u001b[38;5;28mself\u001b[39m, needs_lock\u001b[38;5;241m=\u001b[39m\u001b[38;5;28;01mTrue\u001b[39;00m):\n\u001b[0;32m--> 455\u001b[0m \u001b[43m    \u001b[49m\u001b[38;5;28;43;01mwith\u001b[39;49;00m\u001b[43m \u001b[49m\u001b[38;5;28;43mself\u001b[39;49m\u001b[38;5;241;43m.\u001b[39;49m\u001b[43m_manager\u001b[49m\u001b[38;5;241;43m.\u001b[39;49m\u001b[43macquire_context\u001b[49m\u001b[43m(\u001b[49m\u001b[43mneeds_lock\u001b[49m\u001b[43m)\u001b[49m\u001b[43m \u001b[49m\u001b[38;5;28;43;01mas\u001b[39;49;00m\u001b[43m \u001b[49m\u001b[43mroot\u001b[49m\u001b[43m:\u001b[49m\n\u001b[1;32m    456\u001b[0m \u001b[43m        \u001b[49m\u001b[43mds\u001b[49m\u001b[43m \u001b[49m\u001b[38;5;241;43m=\u001b[39;49m\u001b[43m \u001b[49m\u001b[43m_nc4_require_group\u001b[49m\u001b[43m(\u001b[49m\u001b[43mroot\u001b[49m\u001b[43m,\u001b[49m\u001b[43m \u001b[49m\u001b[38;5;28;43mself\u001b[39;49m\u001b[38;5;241;43m.\u001b[39;49m\u001b[43m_group\u001b[49m\u001b[43m,\u001b[49m\u001b[43m \u001b[49m\u001b[38;5;28;43mself\u001b[39;49m\u001b[38;5;241;43m.\u001b[39;49m\u001b[43m_mode\u001b[49m\u001b[43m)\u001b[49m\n\u001b[1;32m    457\u001b[0m     \u001b[38;5;28;01mreturn\u001b[39;00m ds\n",
      "File \u001b[0;32m/opt/conda/lib/python3.11/contextlib.py:137\u001b[0m, in \u001b[0;36m_GeneratorContextManager.__enter__\u001b[0;34m(self)\u001b[0m\n\u001b[1;32m    135\u001b[0m \u001b[38;5;28;01mdel\u001b[39;00m \u001b[38;5;28mself\u001b[39m\u001b[38;5;241m.\u001b[39margs, \u001b[38;5;28mself\u001b[39m\u001b[38;5;241m.\u001b[39mkwds, \u001b[38;5;28mself\u001b[39m\u001b[38;5;241m.\u001b[39mfunc\n\u001b[1;32m    136\u001b[0m \u001b[38;5;28;01mtry\u001b[39;00m:\n\u001b[0;32m--> 137\u001b[0m     \u001b[38;5;28;01mreturn\u001b[39;00m \u001b[38;5;28mnext\u001b[39m(\u001b[38;5;28mself\u001b[39m\u001b[38;5;241m.\u001b[39mgen)\n\u001b[1;32m    138\u001b[0m \u001b[38;5;28;01mexcept\u001b[39;00m \u001b[38;5;167;01mStopIteration\u001b[39;00m:\n\u001b[1;32m    139\u001b[0m     \u001b[38;5;28;01mraise\u001b[39;00m \u001b[38;5;167;01mRuntimeError\u001b[39;00m(\u001b[38;5;124m\"\u001b[39m\u001b[38;5;124mgenerator didn\u001b[39m\u001b[38;5;124m'\u001b[39m\u001b[38;5;124mt yield\u001b[39m\u001b[38;5;124m\"\u001b[39m) \u001b[38;5;28;01mfrom\u001b[39;00m \u001b[38;5;28;01mNone\u001b[39;00m\n",
      "File \u001b[0;32m/opt/conda/lib/python3.11/site-packages/xarray/backends/file_manager.py:199\u001b[0m, in \u001b[0;36mCachingFileManager.acquire_context\u001b[0;34m(self, needs_lock)\u001b[0m\n\u001b[1;32m    196\u001b[0m \u001b[38;5;129m@contextlib\u001b[39m\u001b[38;5;241m.\u001b[39mcontextmanager\n\u001b[1;32m    197\u001b[0m \u001b[38;5;28;01mdef\u001b[39;00m \u001b[38;5;21macquire_context\u001b[39m(\u001b[38;5;28mself\u001b[39m, needs_lock\u001b[38;5;241m=\u001b[39m\u001b[38;5;28;01mTrue\u001b[39;00m):\n\u001b[1;32m    198\u001b[0m \u001b[38;5;250m    \u001b[39m\u001b[38;5;124;03m\"\"\"Context manager for acquiring a file.\"\"\"\u001b[39;00m\n\u001b[0;32m--> 199\u001b[0m     file, cached \u001b[38;5;241m=\u001b[39m \u001b[38;5;28;43mself\u001b[39;49m\u001b[38;5;241;43m.\u001b[39;49m\u001b[43m_acquire_with_cache_info\u001b[49m\u001b[43m(\u001b[49m\u001b[43mneeds_lock\u001b[49m\u001b[43m)\u001b[49m\n\u001b[1;32m    200\u001b[0m     \u001b[38;5;28;01mtry\u001b[39;00m:\n\u001b[1;32m    201\u001b[0m         \u001b[38;5;28;01myield\u001b[39;00m file\n",
      "File \u001b[0;32m/opt/conda/lib/python3.11/site-packages/xarray/backends/file_manager.py:217\u001b[0m, in \u001b[0;36mCachingFileManager._acquire_with_cache_info\u001b[0;34m(self, needs_lock)\u001b[0m\n\u001b[1;32m    215\u001b[0m     kwargs \u001b[38;5;241m=\u001b[39m kwargs\u001b[38;5;241m.\u001b[39mcopy()\n\u001b[1;32m    216\u001b[0m     kwargs[\u001b[38;5;124m\"\u001b[39m\u001b[38;5;124mmode\u001b[39m\u001b[38;5;124m\"\u001b[39m] \u001b[38;5;241m=\u001b[39m \u001b[38;5;28mself\u001b[39m\u001b[38;5;241m.\u001b[39m_mode\n\u001b[0;32m--> 217\u001b[0m file \u001b[38;5;241m=\u001b[39m \u001b[38;5;28;43mself\u001b[39;49m\u001b[38;5;241;43m.\u001b[39;49m\u001b[43m_opener\u001b[49m\u001b[43m(\u001b[49m\u001b[38;5;241;43m*\u001b[39;49m\u001b[38;5;28;43mself\u001b[39;49m\u001b[38;5;241;43m.\u001b[39;49m\u001b[43m_args\u001b[49m\u001b[43m,\u001b[49m\u001b[43m \u001b[49m\u001b[38;5;241;43m*\u001b[39;49m\u001b[38;5;241;43m*\u001b[39;49m\u001b[43mkwargs\u001b[49m\u001b[43m)\u001b[49m\n\u001b[1;32m    218\u001b[0m \u001b[38;5;28;01mif\u001b[39;00m \u001b[38;5;28mself\u001b[39m\u001b[38;5;241m.\u001b[39m_mode \u001b[38;5;241m==\u001b[39m \u001b[38;5;124m\"\u001b[39m\u001b[38;5;124mw\u001b[39m\u001b[38;5;124m\"\u001b[39m:\n\u001b[1;32m    219\u001b[0m     \u001b[38;5;66;03m# ensure file doesn't get overridden when opened again\u001b[39;00m\n\u001b[1;32m    220\u001b[0m     \u001b[38;5;28mself\u001b[39m\u001b[38;5;241m.\u001b[39m_mode \u001b[38;5;241m=\u001b[39m \u001b[38;5;124m\"\u001b[39m\u001b[38;5;124ma\u001b[39m\u001b[38;5;124m\"\u001b[39m\n",
      "File \u001b[0;32msrc/netCDF4/_netCDF4.pyx:2470\u001b[0m, in \u001b[0;36mnetCDF4._netCDF4.Dataset.__init__\u001b[0;34m()\u001b[0m\n",
      "File \u001b[0;32msrc/netCDF4/_netCDF4.pyx:2107\u001b[0m, in \u001b[0;36mnetCDF4._netCDF4._ensure_nc_success\u001b[0;34m()\u001b[0m\n",
      "\u001b[0;31mFileNotFoundError\u001b[0m: [Errno 2] No such file or directory: '/home/jovyan/Notebooks_JET/datasets/tasday79.nc'"
     ]
    }
   ],
   "source": [
    "tas_ds=xr.open_dataset(tas_file)\n",
    "tas=tas_ds['tas']"
   ]
  },
  {
   "cell_type": "markdown",
   "id": "38f7d2f2-7deb-42c4-b94a-13b6d9336ad7",
   "metadata": {},
   "source": [
    "##### **<font color=\"olive\"> Viento </font>**"
   ]
  },
  {
   "cell_type": "code",
   "execution_count": null,
   "id": "920b32e3-832b-44cd-bc08-144359d69280",
   "metadata": {},
   "outputs": [],
   "source": [
    "file_uHG = 'datasets/uday_250hpa_HG_1979_2014.nc'\n",
    "file_vHG = 'datasets/vday_250hpa_HG_1979_2014.nc'"
   ]
  },
  {
   "cell_type": "code",
   "execution_count": null,
   "id": "cf53011d-3016-4cba-9926-b14139bea94d",
   "metadata": {},
   "outputs": [],
   "source": [
    "uHGds = xr.open_dataset(file_uHG)\n",
    "uHG = uHGds['ua'] \n",
    "\n",
    "vHGds = xr.open_dataset(file_vHG)\n",
    "vHG = vHGds['va']"
   ]
  },
  {
   "cell_type": "markdown",
   "id": "f7b9ba0d-503d-4d8f-a9d4-51dc64a3559d",
   "metadata": {},
   "source": [
    "##### **<font color=\"olive\"> Geopotencial </font>**"
   ]
  },
  {
   "cell_type": "code",
   "execution_count": null,
   "id": "abe2bbd4-ad43-4b35-b2ba-6c861da43038",
   "metadata": {},
   "outputs": [],
   "source": [
    "zg500file = 'datasets/zg500_AERday_HadGEM3-GC31-LL_historical_r1i1p1f3_gn_19500101-20141230.nc'"
   ]
  },
  {
   "cell_type": "code",
   "execution_count": 31,
   "id": "5c15e80d-9421-4f0f-ab3a-14a34b56b58a",
   "metadata": {},
   "outputs": [],
   "source": [
    "zg500 = xr.open_dataset(zg500file)\n",
    "zg500 = zg500['zg500']\n",
    "zg500 = zg500.sel(time=zg500.time.dt.year >= 1979, drop=True)"
   ]
  },
  {
   "cell_type": "markdown",
   "id": "d7b3ce04-2440-40f5-8345-b57e4b3b9ba3",
   "metadata": {},
   "source": [
    "## **<font color=\"Purple\"> Datos de ERA5 </font>**"
   ]
  },
  {
   "cell_type": "markdown",
   "id": "42c51c40-cca8-458c-b0ca-bf158992961a",
   "metadata": {},
   "source": [
    "##### **<font color=\"olive\"> Temperatura </font>**"
   ]
  },
  {
   "cell_type": "code",
   "execution_count": 7,
   "id": "15ee61f9-6005-427d-9da8-ad6cb20ecaed",
   "metadata": {},
   "outputs": [],
   "source": [
    "filet2m_era5 = 'datasetsok/t2mC_1979-2024large.nc' "
   ]
  },
  {
   "cell_type": "code",
   "execution_count": 8,
   "id": "2311b364-bc12-4960-96d1-af1a86496c5a",
   "metadata": {},
   "outputs": [],
   "source": [
    "t2m_ds=xr.open_dataset(filet2m_era5)\n",
    "t2m=t2m_ds['t2m']"
   ]
  },
  {
   "cell_type": "markdown",
   "id": "44c94e23-a2ba-4d4f-85bb-872a5b586dda",
   "metadata": {},
   "source": [
    "##### **<font color=\"olive\"> Viento </font>**"
   ]
  },
  {
   "cell_type": "code",
   "execution_count": 41,
   "id": "981b71e7-46cd-4839-ac0a-4499cefb4f4f",
   "metadata": {},
   "outputs": [],
   "source": [
    "fileu_era5 = 'datasetsok/u_daily_500_200_1979-2024.nc'\n",
    "filev_era5 = 'datasetsok/v_wind_1979-2024_MSRG.nc'"
   ]
  },
  {
   "cell_type": "code",
   "execution_count": 42,
   "id": "e1201242-48b1-43cc-939e-e65da5f8c6b2",
   "metadata": {},
   "outputs": [],
   "source": [
    "u_ds = xr.open_dataset(fileu_era5)\n",
    "v_ds = xr.open_dataset(filev_era5)\n",
    "\n",
    "u_era5 = u_ds['u']\n",
    "v_era5 = v_ds['v']"
   ]
  },
  {
   "cell_type": "code",
   "execution_count": 43,
   "id": "7ef75e88-b12e-4ce5-9049-3ffc98f48116",
   "metadata": {},
   "outputs": [],
   "source": [
    "#Seleccionar solo 200 hPa \n",
    "u200E5 = u_era5.sel(pressure_level=200)\n",
    "v200E5 = v_era5.sel(pressure_level=200)"
   ]
  },
  {
   "cell_type": "markdown",
   "id": "db21db76-75d6-4fe8-a3cc-6f5a03e47084",
   "metadata": {},
   "source": [
    "##### **<font color=\"olive\"> Geopotencial </font>**"
   ]
  },
  {
   "cell_type": "code",
   "execution_count": 11,
   "id": "1ba124d9-784b-46f8-9e7a-f0ea47663f13",
   "metadata": {},
   "outputs": [],
   "source": [
    "gphfile = 'datasets/gph_1979-2024.nc'"
   ]
  },
  {
   "cell_type": "code",
   "execution_count": 19,
   "id": "175acf42-cbf3-46da-9b4c-7d73642bd428",
   "metadata": {},
   "outputs": [],
   "source": [
    "gph = xr.open_dataset(gphfile)\n",
    "gph = gph.rename({'__xarray_dataarray_variable__':'z'})\n",
    "gph = gph['z']"
   ]
  },
  {
   "cell_type": "markdown",
   "id": "c7676696-e956-4759-80e6-796448f6d269",
   "metadata": {},
   "source": [
    "## Climatología diaria HadGEM3"
   ]
  },
  {
   "cell_type": "markdown",
   "id": "a9a01693-364a-4382-b2bc-ce11d4a5e408",
   "metadata": {},
   "source": [
    "##### **<font color=\"olive\"> Temperatura </font>**"
   ]
  },
  {
   "cell_type": "code",
   "execution_count": 27,
   "id": "f9315f61-e561-4389-89ec-b7b868ef83f2",
   "metadata": {},
   "outputs": [],
   "source": [
    "regionHG = tas.sel(lat=slice(5, 50), lon=slice(227,297))"
   ]
  },
  {
   "cell_type": "code",
   "execution_count": 28,
   "id": "c589eff2-6d58-4a77-9d38-bfc95688f3e3",
   "metadata": {},
   "outputs": [],
   "source": [
    "tas_climday = regionHG.groupby('time.dayofyear').mean('time') #este es el ciclo anual "
   ]
  },
  {
   "cell_type": "code",
   "execution_count": 29,
   "id": "754c2209-08da-4e29-9003-f2b4aba81e07",
   "metadata": {},
   "outputs": [],
   "source": [
    "tasclimdaysuav = tas_climday.rolling(dayofyear=7, center=True, min_periods=1).mean()"
   ]
  },
  {
   "cell_type": "code",
   "execution_count": 30,
   "id": "4c678cc8-838d-471d-8c72-58ebd6a23bc3",
   "metadata": {},
   "outputs": [],
   "source": [
    "anomaliasday = regionHG.groupby('time.dayofyear') - tasclimdaysuav "
   ]
  },
  {
   "cell_type": "code",
   "execution_count": 33,
   "id": "ff1b547a-db00-41db-829d-7e8eaf74e518",
   "metadata": {},
   "outputs": [],
   "source": [
    "# ruta_tas = 'datasets/anom_day_tasHG.nc'"
   ]
  },
  {
   "cell_type": "code",
   "execution_count": 34,
   "id": "bf5d8ed6-32ae-4448-929b-91724b52f1f3",
   "metadata": {},
   "outputs": [],
   "source": [
    "# anomaliasday.to_netcdf(ruta_tas)"
   ]
  },
  {
   "cell_type": "markdown",
   "id": "9e7e9fe9-cc8b-4031-880d-17be779be9f3",
   "metadata": {},
   "source": [
    "##### **<font color=\"olive\"> Viento u </font>**"
   ]
  },
  {
   "cell_type": "code",
   "execution_count": 23,
   "id": "bcb0c2b1-4b0f-449c-81a2-44f118889254",
   "metadata": {},
   "outputs": [],
   "source": [
    "uregionHG = uHG.sel(lat=slice(5, 50), lon=slice(227,297))"
   ]
  },
  {
   "cell_type": "code",
   "execution_count": 42,
   "id": "4ea09fdc-d40a-4dd3-bd85-98fbf0123201",
   "metadata": {},
   "outputs": [],
   "source": [
    "u_climdayHG = uregionHG.groupby('time.dayofyear').mean('time') #este es el ciclo anual "
   ]
  },
  {
   "cell_type": "code",
   "execution_count": 43,
   "id": "9194c49c-d989-463b-929e-51a960303d10",
   "metadata": {},
   "outputs": [],
   "source": [
    "uclimdaysuav = u_climdayHG.rolling(dayofyear=7, center=True, min_periods=1).mean()"
   ]
  },
  {
   "cell_type": "code",
   "execution_count": 44,
   "id": "bac7a677-31b2-41d5-90c1-0917c5100699",
   "metadata": {},
   "outputs": [],
   "source": [
    "uanomaliasday = uregionHG.groupby('time.dayofyear') - uclimdaysuav #es el suavizado o no?"
   ]
  },
  {
   "cell_type": "code",
   "execution_count": 45,
   "id": "e377301a-cd9c-4e0f-9e08-a4a7eb9819c6",
   "metadata": {},
   "outputs": [],
   "source": [
    "# ruta_u = 'datasets/anom_day_uHG.nc'"
   ]
  },
  {
   "cell_type": "code",
   "execution_count": 46,
   "id": "38d7b7d7-09ca-4858-a6c3-db986a0cc7c3",
   "metadata": {},
   "outputs": [],
   "source": [
    "# uanomaliasday.to_netcdf(ruta_u)"
   ]
  },
  {
   "cell_type": "markdown",
   "id": "71b7ff9a-e84a-4066-8aa2-ea97b66def0e",
   "metadata": {},
   "source": [
    "##### **<font color=\"olive\"> Viento v </font>**"
   ]
  },
  {
   "cell_type": "code",
   "execution_count": 26,
   "id": "ff38a2fe-b655-4e70-92b9-3493cfae7d95",
   "metadata": {},
   "outputs": [],
   "source": [
    "vregionHG = vHG.sel(lat=slice(5, 50), lon=slice(227,297))"
   ]
  },
  {
   "cell_type": "code",
   "execution_count": 27,
   "id": "974e1b2f-8edf-4db2-ace3-a1f9f1fe3580",
   "metadata": {},
   "outputs": [],
   "source": [
    "v_climdayHG = vregionHG.groupby('time.dayofyear').mean('time') #este es el ciclo anual "
   ]
  },
  {
   "cell_type": "code",
   "execution_count": 28,
   "id": "6a91f399-3a57-491c-852c-d4127e638c72",
   "metadata": {},
   "outputs": [],
   "source": [
    "vclimdaysuav = v_climdayHG.rolling(dayofyear=7, center=True, min_periods=1).mean()"
   ]
  },
  {
   "cell_type": "code",
   "execution_count": 29,
   "id": "37dae7bc-7100-4141-a839-98358157f633",
   "metadata": {},
   "outputs": [],
   "source": [
    "vanomaliasday = vregionHG.groupby('time.dayofyear') - vclimdaysuav #es el suavizado o no?"
   ]
  },
  {
   "cell_type": "code",
   "execution_count": 34,
   "id": "42228a17-ad80-4afa-852b-3dd9e14d0066",
   "metadata": {},
   "outputs": [],
   "source": [
    "# vanomaliasday.to_netcdf('datasets/anom_day_vHG.nc')"
   ]
  },
  {
   "cell_type": "markdown",
   "id": "586770d2-af41-48ba-8cf4-60cdcd758409",
   "metadata": {},
   "source": [
    "##### **<font color=\"olive\"> Geopotencial </font>**"
   ]
  },
  {
   "cell_type": "code",
   "execution_count": 32,
   "id": "368edbd7-94a2-41ca-9fba-75347ac2f841",
   "metadata": {},
   "outputs": [],
   "source": [
    "zgregionHG = zg500.sel(lat=slice(5, 50), lon=slice(227,297))"
   ]
  },
  {
   "cell_type": "code",
   "execution_count": 33,
   "id": "70a4d104-0eb4-405b-b8a8-0633d041c001",
   "metadata": {},
   "outputs": [],
   "source": [
    "zg_climdayHG = zgregionHG.groupby('time.dayofyear').mean('time') #este es el ciclo anual "
   ]
  },
  {
   "cell_type": "code",
   "execution_count": 34,
   "id": "8b1773c3-2411-4817-ba1e-00605fcf4aba",
   "metadata": {},
   "outputs": [],
   "source": [
    "zgclimdaysuav = zg_climdayHG.rolling(dayofyear=7, center=True, min_periods=1).mean()"
   ]
  },
  {
   "cell_type": "code",
   "execution_count": 35,
   "id": "1184a167-07aa-48e3-861b-8dd82f3eb7c7",
   "metadata": {},
   "outputs": [],
   "source": [
    "zganomaliasday = zgregionHG.groupby('time.dayofyear') - zgclimdaysuav "
   ]
  },
  {
   "cell_type": "code",
   "execution_count": 37,
   "id": "a45e0c63-1f91-463d-9f75-f7906164dfca",
   "metadata": {},
   "outputs": [],
   "source": [
    "# zganomaliasday.to_netcdf('datasetsok/anomalias_day_zgHG.nc')"
   ]
  },
  {
   "cell_type": "markdown",
   "id": "ba8e5f14-4b18-45ed-869e-cd0d92babcfe",
   "metadata": {},
   "source": [
    "### Climatología diaria ERA5"
   ]
  },
  {
   "cell_type": "markdown",
   "id": "88cd5c2c-0f62-4a47-8f4d-53e98fd5a9bf",
   "metadata": {},
   "source": [
    "##### **<font color=\"olive\"> Temperatura </font>**"
   ]
  },
  {
   "cell_type": "code",
   "execution_count": 9,
   "id": "1b42e8ca-e4f6-4aaa-bf71-88b7d8f6ce94",
   "metadata": {},
   "outputs": [],
   "source": [
    "regionE5 = t2m.sel(latitude=slice(50, 5), longitude=slice(-133,-63))"
   ]
  },
  {
   "cell_type": "code",
   "execution_count": 11,
   "id": "3016e98f-c651-4519-8d95-641c626a872f",
   "metadata": {},
   "outputs": [],
   "source": [
    "t2m_climday = regionE5.groupby('time.dayofyear').mean('time') #este es el ciclo anual "
   ]
  },
  {
   "cell_type": "code",
   "execution_count": 12,
   "id": "6672b4c1-7e25-4c0b-842d-9ef92e6bdc5e",
   "metadata": {},
   "outputs": [],
   "source": [
    "t2mclimdaysuav = t2m_climday.rolling(dayofyear=7, center=True, min_periods=1).mean()"
   ]
  },
  {
   "cell_type": "code",
   "execution_count": 13,
   "id": "7ce05855-117b-499c-b692-edc458389765",
   "metadata": {},
   "outputs": [],
   "source": [
    "anomaliasdayE5 = regionE5.groupby('time.dayofyear') - t2mclimdaysuav"
   ]
  },
  {
   "cell_type": "code",
   "execution_count": 14,
   "id": "17615c50-de70-4cdc-b3f7-471fe762558b",
   "metadata": {},
   "outputs": [],
   "source": [
    "anomaliasdayE5.to_netcdf('datasetsok/anomalias_day_t2mE5.nc')"
   ]
  },
  {
   "cell_type": "markdown",
   "id": "c627108a-1fad-41ab-8141-ee64b89e813a",
   "metadata": {},
   "source": [
    "##### **<font color=\"olive\"> Viento </font>**"
   ]
  },
  {
   "cell_type": "markdown",
   "id": "b718c6af-5ec8-4ff7-9edf-3fb3a6d5f989",
   "metadata": {},
   "source": [
    "u"
   ]
  },
  {
   "cell_type": "code",
   "execution_count": 50,
   "id": "fee55e09-0286-4905-9bad-e212ce43a9ff",
   "metadata": {},
   "outputs": [],
   "source": [
    "uregionE5 = u200E5.sel(latitude=slice(40, 10), longitude=slice(227,297))"
   ]
  },
  {
   "cell_type": "code",
   "execution_count": 51,
   "id": "0e235291-eaf7-4c41-8b33-2b610da667e9",
   "metadata": {},
   "outputs": [],
   "source": [
    "u_climdayE5 = uregionE5.groupby('time.dayofyear').mean('time') #este es el ciclo anual "
   ]
  },
  {
   "cell_type": "code",
   "execution_count": 54,
   "id": "3531d42c-ded2-4638-b5c9-1b6a141c1237",
   "metadata": {},
   "outputs": [],
   "source": [
    "uclimdaysuav = u_climdayE5.rolling(dayofyear=7, center=True, min_periods=1).mean()"
   ]
  },
  {
   "cell_type": "code",
   "execution_count": 55,
   "id": "6ca0a1f5-288c-4808-be6c-19fdd807ffe9",
   "metadata": {},
   "outputs": [],
   "source": [
    "uanomaliasdayE5 = uregionE5.groupby('time.dayofyear') - uclimdaysuav"
   ]
  },
  {
   "cell_type": "code",
   "execution_count": 57,
   "id": "8e9b4682-aba5-4c58-9d7a-e57b95825a70",
   "metadata": {},
   "outputs": [],
   "source": [
    "# uanomaliasdayE5.to_netcdf('datasetsok/anomalias_day_uE5.nc')"
   ]
  },
  {
   "cell_type": "markdown",
   "id": "5b80f446-9535-4c9a-98bf-696d7bf6fee5",
   "metadata": {},
   "source": [
    "v"
   ]
  },
  {
   "cell_type": "code",
   "execution_count": 61,
   "id": "5c91aaef-8921-4468-849c-a9d6aaec6fb8",
   "metadata": {},
   "outputs": [],
   "source": [
    "vregionE5 = v200E5.sel(latitude=slice(40, 10), longitude=slice(-133,-63))"
   ]
  },
  {
   "cell_type": "code",
   "execution_count": 62,
   "id": "b6784277-0266-4c29-a627-48a971447b73",
   "metadata": {},
   "outputs": [],
   "source": [
    "v_climdayE5 = vregionE5.groupby('time.dayofyear').mean('time') #este es el ciclo anual "
   ]
  },
  {
   "cell_type": "code",
   "execution_count": 63,
   "id": "d996e00c-6059-42f6-8cf6-2bb0d544b71a",
   "metadata": {},
   "outputs": [],
   "source": [
    "vclimdaysuav = v_climdayE5.rolling(dayofyear=7, center=True, min_periods=1).mean()"
   ]
  },
  {
   "cell_type": "code",
   "execution_count": 64,
   "id": "c9f1cd5f-5a09-425f-9fcc-0207414365d6",
   "metadata": {},
   "outputs": [],
   "source": [
    "vanomaliasdayE5 = vregionE5.groupby('time.dayofyear') - vclimdaysuav"
   ]
  },
  {
   "cell_type": "code",
   "execution_count": 65,
   "id": "e978d363-8730-487e-951d-0fa4a995e1d2",
   "metadata": {},
   "outputs": [],
   "source": [
    "# vanomaliasdayE5.to_netcdf('datasetsok/anomalias_day_vE5.nc')"
   ]
  },
  {
   "cell_type": "markdown",
   "id": "15f4ddcc-5b9e-4428-98c9-18ab80e54b40",
   "metadata": {},
   "source": [
    "##### **<font color=\"olive\"> Geopotencial </font>**"
   ]
  },
  {
   "cell_type": "code",
   "execution_count": 47,
   "id": "c1fe93cf-364b-4e27-9c12-15c31293935c",
   "metadata": {},
   "outputs": [],
   "source": [
    "gphregionE5 = gph.sel(latitude=slice(50, 5), longitude=slice(-133,-63))"
   ]
  },
  {
   "cell_type": "code",
   "execution_count": 48,
   "id": "d83afaf0-01f9-4310-b677-c6d591cd6d11",
   "metadata": {},
   "outputs": [],
   "source": [
    "gph_climdayE5 = gphregionE5.groupby('time.dayofyear').mean('time') #este es el ciclo anual "
   ]
  },
  {
   "cell_type": "code",
   "execution_count": 49,
   "id": "96f96d49-3523-4b8d-b7f4-3bc458b68ea0",
   "metadata": {},
   "outputs": [],
   "source": [
    "gphclimdaysuav = gph_climdayE5.rolling(dayofyear=7, center=True, min_periods=1).mean()"
   ]
  },
  {
   "cell_type": "code",
   "execution_count": 51,
   "id": "1e22b930-8f87-4da0-aa75-1d57368753c0",
   "metadata": {},
   "outputs": [],
   "source": [
    "gphanomaliasdayE5 = gphregionE5.groupby('time.dayofyear') - gphclimdaysuav"
   ]
  },
  {
   "cell_type": "code",
   "execution_count": 52,
   "id": "9c4eceb7-7208-4af5-a83c-d0c109f4d5c1",
   "metadata": {},
   "outputs": [],
   "source": [
    "# gphanomaliasdayE5.to_netcdf('datasetsok/anomalias_day_gphE5.nc')"
   ]
  }
 ],
 "metadata": {
  "kernelspec": {
   "display_name": "Python 3 (ipykernel)",
   "language": "python",
   "name": "python3"
  },
  "language_info": {
   "codemirror_mode": {
    "name": "ipython",
    "version": 3
   },
   "file_extension": ".py",
   "mimetype": "text/x-python",
   "name": "python",
   "nbconvert_exporter": "python",
   "pygments_lexer": "ipython3",
   "version": "3.11.6"
  }
 },
 "nbformat": 4,
 "nbformat_minor": 5
}
