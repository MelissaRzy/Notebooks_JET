{
 "cells": [
  {
   "cell_type": "code",
   "execution_count": 1,
   "id": "a2b470c8-91f8-4453-819d-1fd8719b33ae",
   "metadata": {
    "scrolled": true
   },
   "outputs": [
    {
     "name": "stdout",
     "output_type": "stream",
     "text": [
      "Requirement already satisfied: h5netcdf in /opt/conda/lib/python3.11/site-packages (1.6.1)\n",
      "Requirement already satisfied: h5py in /opt/conda/lib/python3.11/site-packages (from h5netcdf) (3.13.0)\n",
      "Requirement already satisfied: packaging in /opt/conda/lib/python3.11/site-packages (from h5netcdf) (23.2)\n",
      "Requirement already satisfied: numpy>=1.19.3 in /home/jovyan/.local/lib/python3.11/site-packages (from h5py->h5netcdf) (1.26.4)\n",
      "Note: you may need to restart the kernel to use updated packages.\n"
     ]
    }
   ],
   "source": [
    "pip install h5netcdf "
   ]
  },
  {
   "cell_type": "code",
   "execution_count": 2,
   "id": "9dc779e4-9e25-4a9d-8248-9aefc14b2153",
   "metadata": {
    "scrolled": true
   },
   "outputs": [
    {
     "name": "stdout",
     "output_type": "stream",
     "text": [
      "Requirement already satisfied: xarray in /opt/conda/lib/python3.11/site-packages (2025.4.0)\n",
      "Requirement already satisfied: numpy>=1.24 in /home/jovyan/.local/lib/python3.11/site-packages (from xarray) (1.26.4)\n",
      "Requirement already satisfied: packaging>=23.2 in /opt/conda/lib/python3.11/site-packages (from xarray) (23.2)\n",
      "Requirement already satisfied: pandas>=2.1 in /opt/conda/lib/python3.11/site-packages (from xarray) (2.2.3)\n",
      "Requirement already satisfied: python-dateutil>=2.8.2 in /opt/conda/lib/python3.11/site-packages (from pandas>=2.1->xarray) (2.8.2)\n",
      "Requirement already satisfied: pytz>=2020.1 in /opt/conda/lib/python3.11/site-packages (from pandas>=2.1->xarray) (2023.3.post1)\n",
      "Requirement already satisfied: tzdata>=2022.7 in /opt/conda/lib/python3.11/site-packages (from pandas>=2.1->xarray) (2024.2)\n",
      "Requirement already satisfied: six>=1.5 in /opt/conda/lib/python3.11/site-packages (from python-dateutil>=2.8.2->pandas>=2.1->xarray) (1.16.0)\n",
      "Note: you may need to restart the kernel to use updated packages.\n"
     ]
    }
   ],
   "source": [
    "pip install xarray"
   ]
  },
  {
   "cell_type": "code",
   "execution_count": 3,
   "id": "24b0222f-3400-4acd-8a9e-11f9a0ca8eea",
   "metadata": {
    "scrolled": true
   },
   "outputs": [
    {
     "name": "stdout",
     "output_type": "stream",
     "text": [
      "Requirement already satisfied: cftime in /opt/conda/lib/python3.11/site-packages (1.6.4.post1)\n",
      "Requirement already satisfied: numpy>1.13.3 in /home/jovyan/.local/lib/python3.11/site-packages (from cftime) (1.26.4)\n",
      "Note: you may need to restart the kernel to use updated packages.\n"
     ]
    }
   ],
   "source": [
    "pip install cftime"
   ]
  },
  {
   "cell_type": "code",
   "execution_count": 4,
   "id": "184a4b69-3cdd-4f1a-9b15-18e85c3495d1",
   "metadata": {},
   "outputs": [
    {
     "name": "stdout",
     "output_type": "stream",
     "text": [
      "Requirement already satisfied: toolz in /opt/conda/lib/python3.11/site-packages (1.0.0)\n",
      "Note: you may need to restart the kernel to use updated packages.\n"
     ]
    }
   ],
   "source": [
    "pip install toolz"
   ]
  },
  {
   "cell_type": "code",
   "execution_count": 5,
   "id": "6829f86b-c25a-4bdb-8551-a8c7bda47245",
   "metadata": {},
   "outputs": [],
   "source": [
    "import xarray as xr\n",
    "import numpy as np\n",
    "import datetime\n",
    "import pandas as pd\n",
    "import cftime"
   ]
  },
  {
   "cell_type": "markdown",
   "id": "acc2ea16-da94-4b86-b5eb-cfbba5ca99ce",
   "metadata": {},
   "source": [
    "### **<font color=\"Purple\"> Datos de ERA5 </font>**"
   ]
  },
  {
   "cell_type": "markdown",
   "id": "6c192f51-5d63-4846-90a4-4ed198b1b8ae",
   "metadata": {},
   "source": [
    "### **<font color=\"olive\"> CAOs </font>**"
   ]
  },
  {
   "cell_type": "code",
   "execution_count": 6,
   "id": "f3e32340-9d89-4675-8bbd-4c1485966910",
   "metadata": {},
   "outputs": [],
   "source": [
    "fechasCAOE5 = pd.read_csv('datasetsok/fechasCAO_E5.csv')\n",
    "# fechasCAOE5"
   ]
  },
  {
   "cell_type": "markdown",
   "id": "e2014ebf-45f5-492f-9e53-9c1196d1ca0d",
   "metadata": {},
   "source": [
    "### **<font color=\"olive\"> Geopotencial</font>**"
   ]
  },
  {
   "cell_type": "code",
   "execution_count": 7,
   "id": "12d59a9f-6adc-48e1-8e46-d5e26353d38f",
   "metadata": {},
   "outputs": [],
   "source": [
    "csv_df = pd.read_csv('datasets/PNAindexcsv.csv')\n",
    "# csv_df.head()"
   ]
  },
  {
   "cell_type": "code",
   "execution_count": 8,
   "id": "9d8d45e4-82f1-4815-bff7-2f931487e9c3",
   "metadata": {},
   "outputs": [],
   "source": [
    "csv_df=csv_df.rename({'pna_index_cdas':'PNAidx'},axis=1)\n",
    "csv_df[\"fecha\"] = pd.to_datetime(csv_df[[\"year\", \"month\", \"day\"]])\n",
    "df79_24 = csv_df.loc[csv_df.year.between(1979, 2024)]"
   ]
  },
  {
   "cell_type": "markdown",
   "id": "e5c72a2d-15f0-4433-92f6-b0e7e4942105",
   "metadata": {},
   "source": [
    "### **<font color=\"darkpink\"> Concat de PNA y CAOs </font>**"
   ]
  },
  {
   "cell_type": "markdown",
   "id": "f1c004ba-471a-4161-a373-8a44a5c4af15",
   "metadata": {},
   "source": [
    "Tengo que elegir la columna de fecha para relacionarla con CAOs, después ligarla con la de PNAidx para ver si eran positivos o negativos, o neutros."
   ]
  },
  {
   "cell_type": "code",
   "execution_count": 9,
   "id": "cd5470e9-b713-4f54-b14e-8690fe8dfb29",
   "metadata": {},
   "outputs": [],
   "source": [
    "def PNA_CAOsE5(df_caos, df_pna,thr):\n",
    "    \"\"\"\n",
    "    Clasifica las fechas de CAO según la fase del índice PNA.\n",
    "\n",
    "    Parámetros:\n",
    "    -----------\n",
    "    df_caos : DataFrame\n",
    "        DataFrame con una columna 'fecha' que contiene las fechas de los eventos CAO.\n",
    "    \n",
    "    df_pna : DataFrame\n",
    "        DataFrame con columnas 'fecha' y 'PNAidx', donde 'PNAidx' es el valor diario del índice PNA.\n",
    "\n",
    "    Retorna:\n",
    "    --------\n",
    "    dict : Diccionario con:\n",
    "        - 'PNAyCAOS': DataFrame con fechas de CAO y su valor PNA correspondiente\n",
    "        - 'PNApCAO': Lista de dicts con fechas de CAO en fase positiva del PNA\n",
    "        - 'PNAnCAO': Lista de dicts con fechas de CAO en fase negativa del PNA\n",
    "        - 'PNA0CAO': Lista de dicts con fechas de CAO en fase neutra del PNA\n",
    "    \"\"\"\n",
    "    # Asegurar que las fechas estén en formato datetime y sin hora\n",
    "    df_caos = df_caos.copy()\n",
    "    df_pna = df_pna.copy()\n",
    "    \n",
    "    df_caos['fecha'] = pd.to_datetime(df_caos['fecha']).dt.floor('D')\n",
    "    df_pna['fecha'] = pd.to_datetime(df_pna['fecha']).dt.floor('D')\n",
    "    \n",
    "    # Unir los DataFrames por fecha\n",
    "    caos_pna = df_caos.merge(df_pna, on='fecha', how='inner')\n",
    "\n",
    "    # Diccionarios vacíos para fechas donde PNA es +,-,0\n",
    "    PNA_p_CAO = []\n",
    "    PNA_n_CAO = []\n",
    "    PNA_0_CAO = []\n",
    "\n",
    "    # Clasificar según el índice PNA\n",
    "    for _, row in caos_pna.iterrows():\n",
    "        fecha = row['fecha']\n",
    "        PNAidx = row['PNAidx']\n",
    "\n",
    "        if PNAidx >= thr:\n",
    "            PNA_p_CAO.append({'fecha': fecha, 'PNAidx': PNAidx})\n",
    "        elif PNAidx <= -thr:\n",
    "            PNA_n_CAO.append({'fecha': fecha, 'PNAidx': PNAidx})\n",
    "        elif -thr <= PNAidx <= thr:\n",
    "            PNA_0_CAO.append({'fecha': fecha, 'PNAidx': PNAidx})\n",
    "\n",
    "    return {\n",
    "        'PNAyCAOS': caos_pna,\n",
    "        'PNApCAO': PNA_p_CAO,\n",
    "        'PNAnCAO': PNA_n_CAO,\n",
    "        'PNA0CAO': PNA_0_CAO\n",
    "           }\n"
   ]
  },
  {
   "cell_type": "code",
   "execution_count": 18,
   "id": "588f375d-58a3-4954-b539-0949c5551858",
   "metadata": {},
   "outputs": [
    {
     "data": {
      "text/plain": [
       "0.8434023258015263"
      ]
     },
     "execution_count": 18,
     "metadata": {},
     "output_type": "execute_result"
    }
   ],
   "source": [
    "df79_24['PNAidx'].std()"
   ]
  },
  {
   "cell_type": "code",
   "execution_count": 19,
   "id": "6a8c0df0-dbd8-46a6-a17a-4768407b3a82",
   "metadata": {},
   "outputs": [],
   "source": [
    "PNAconcatCAO_E5 = PNA_CAOsE5(fechasCAOE5, df79_24,thr=float(df79_24['PNAidx'].std())/2)"
   ]
  },
  {
   "cell_type": "markdown",
   "id": "cf3837d5-2700-488a-a4cd-c1bcb43206ee",
   "metadata": {},
   "source": [
    "##### **<font color=\"darkpink\"> ERA5 </font>**"
   ]
  },
  {
   "cell_type": "code",
   "execution_count": 20,
   "id": "b7e07e53-f8c6-4668-9286-fe274fafd596",
   "metadata": {},
   "outputs": [
    {
     "name": "stdout",
     "output_type": "stream",
     "text": [
      "Cantidad de CAOs en ERA5: 70\n",
      "Cantidad de CAOs en fase positiva: 50\n",
      "Cantidad de CAOs en fase negativa: 6\n",
      "Cantidad de CAOs en fase neutra: 14\n"
     ]
    }
   ],
   "source": [
    "print(f'Cantidad de CAOs en ERA5: {len(PNAconcatCAO_E5[\"PNAyCAOS\"])}')\n",
    "print(f'Cantidad de CAOs en fase positiva: {len(PNAconcatCAO_E5[\"PNApCAO\"])}')\n",
    "print(f'Cantidad de CAOs en fase negativa: {len(PNAconcatCAO_E5[\"PNAnCAO\"])}')\n",
    "print(f'Cantidad de CAOs en fase neutra: {len(PNAconcatCAO_E5[\"PNA0CAO\"])}')"
   ]
  },
  {
   "cell_type": "code",
   "execution_count": null,
   "id": "e8c53adf-705b-4a21-ab9e-f500c6e98cd1",
   "metadata": {},
   "outputs": [],
   "source": []
  }
 ],
 "metadata": {
  "kernelspec": {
   "display_name": "Python 3 (ipykernel)",
   "language": "python",
   "name": "python3"
  },
  "language_info": {
   "codemirror_mode": {
    "name": "ipython",
    "version": 3
   },
   "file_extension": ".py",
   "mimetype": "text/x-python",
   "name": "python",
   "nbconvert_exporter": "python",
   "pygments_lexer": "ipython3",
   "version": "3.11.6"
  }
 },
 "nbformat": 4,
 "nbformat_minor": 5
}
