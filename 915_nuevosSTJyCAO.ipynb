{
 "cells": [
  {
   "cell_type": "markdown",
   "id": "3357674d-4c78-4040-bb6c-e4fcbf2fe13c",
   "metadata": {},
   "source": [
    "----\n",
    "## **<font color=\"crimson\"> Ya no funciona, ya tiene su versión corregida </font>**"
   ]
  },
  {
   "cell_type": "code",
   "execution_count": 1,
   "id": "64bfea7d-02cf-4c8a-8492-f54cd4e29dd4",
   "metadata": {
    "scrolled": true
   },
   "outputs": [
    {
     "name": "stdout",
     "output_type": "stream",
     "text": [
      "Requirement already satisfied: cartopy in /opt/conda/lib/python3.11/site-packages (0.24.1)\n",
      "Requirement already satisfied: numpy>=1.23 in /home/jovyan/.local/lib/python3.11/site-packages (from cartopy) (1.26.4)\n",
      "Requirement already satisfied: matplotlib>=3.6 in /opt/conda/lib/python3.11/site-packages (from cartopy) (3.9.2)\n",
      "Requirement already satisfied: shapely>=1.8 in /opt/conda/lib/python3.11/site-packages (from cartopy) (2.0.6)\n",
      "Requirement already satisfied: packaging>=21 in /opt/conda/lib/python3.11/site-packages (from cartopy) (23.2)\n",
      "Requirement already satisfied: pyshp>=2.3 in /opt/conda/lib/python3.11/site-packages (from cartopy) (2.3.1)\n",
      "Requirement already satisfied: pyproj>=3.3.1 in /opt/conda/lib/python3.11/site-packages (from cartopy) (3.7.0)\n",
      "Requirement already satisfied: contourpy>=1.0.1 in /opt/conda/lib/python3.11/site-packages (from matplotlib>=3.6->cartopy) (1.3.0)\n",
      "Requirement already satisfied: cycler>=0.10 in /opt/conda/lib/python3.11/site-packages (from matplotlib>=3.6->cartopy) (0.12.1)\n",
      "Requirement already satisfied: fonttools>=4.22.0 in /opt/conda/lib/python3.11/site-packages (from matplotlib>=3.6->cartopy) (4.54.1)\n",
      "Requirement already satisfied: kiwisolver>=1.3.1 in /opt/conda/lib/python3.11/site-packages (from matplotlib>=3.6->cartopy) (1.4.7)\n",
      "Requirement already satisfied: pillow>=8 in /opt/conda/lib/python3.11/site-packages (from matplotlib>=3.6->cartopy) (10.4.0)\n",
      "Requirement already satisfied: pyparsing>=2.3.1 in /opt/conda/lib/python3.11/site-packages (from matplotlib>=3.6->cartopy) (3.1.4)\n",
      "Requirement already satisfied: python-dateutil>=2.7 in /opt/conda/lib/python3.11/site-packages (from matplotlib>=3.6->cartopy) (2.8.2)\n",
      "Requirement already satisfied: certifi in /opt/conda/lib/python3.11/site-packages (from pyproj>=3.3.1->cartopy) (2023.7.22)\n",
      "Requirement already satisfied: six>=1.5 in /opt/conda/lib/python3.11/site-packages (from python-dateutil>=2.7->matplotlib>=3.6->cartopy) (1.16.0)\n",
      "Note: you may need to restart the kernel to use updated packages.\n"
     ]
    }
   ],
   "source": [
    "pip install cartopy"
   ]
  },
  {
   "cell_type": "code",
   "execution_count": 2,
   "id": "a2b470c8-91f8-4453-819d-1fd8719b33ae",
   "metadata": {
    "scrolled": true
   },
   "outputs": [
    {
     "name": "stdout",
     "output_type": "stream",
     "text": [
      "Requirement already satisfied: h5netcdf in /opt/conda/lib/python3.11/site-packages (1.5.0)\n",
      "Requirement already satisfied: h5py in /opt/conda/lib/python3.11/site-packages (from h5netcdf) (3.13.0)\n",
      "Requirement already satisfied: packaging in /opt/conda/lib/python3.11/site-packages (from h5netcdf) (23.2)\n",
      "Requirement already satisfied: numpy>=1.19.3 in /home/jovyan/.local/lib/python3.11/site-packages (from h5py->h5netcdf) (1.26.4)\n",
      "Note: you may need to restart the kernel to use updated packages.\n"
     ]
    }
   ],
   "source": [
    "pip install h5netcdf "
   ]
  },
  {
   "cell_type": "code",
   "execution_count": 3,
   "id": "9dc779e4-9e25-4a9d-8248-9aefc14b2153",
   "metadata": {
    "scrolled": true
   },
   "outputs": [
    {
     "name": "stdout",
     "output_type": "stream",
     "text": [
      "Requirement already satisfied: xarray in /opt/conda/lib/python3.11/site-packages (2025.1.2)\n",
      "Requirement already satisfied: numpy>=1.24 in /home/jovyan/.local/lib/python3.11/site-packages (from xarray) (1.26.4)\n",
      "Requirement already satisfied: packaging>=23.2 in /opt/conda/lib/python3.11/site-packages (from xarray) (23.2)\n",
      "Requirement already satisfied: pandas>=2.1 in /opt/conda/lib/python3.11/site-packages (from xarray) (2.2.3)\n",
      "Requirement already satisfied: python-dateutil>=2.8.2 in /opt/conda/lib/python3.11/site-packages (from pandas>=2.1->xarray) (2.8.2)\n",
      "Requirement already satisfied: pytz>=2020.1 in /opt/conda/lib/python3.11/site-packages (from pandas>=2.1->xarray) (2023.3.post1)\n",
      "Requirement already satisfied: tzdata>=2022.7 in /opt/conda/lib/python3.11/site-packages (from pandas>=2.1->xarray) (2024.2)\n",
      "Requirement already satisfied: six>=1.5 in /opt/conda/lib/python3.11/site-packages (from python-dateutil>=2.8.2->pandas>=2.1->xarray) (1.16.0)\n",
      "Note: you may need to restart the kernel to use updated packages.\n"
     ]
    }
   ],
   "source": [
    "pip install xarray"
   ]
  },
  {
   "cell_type": "code",
   "execution_count": 4,
   "id": "24b0222f-3400-4acd-8a9e-11f9a0ca8eea",
   "metadata": {
    "scrolled": true
   },
   "outputs": [
    {
     "name": "stdout",
     "output_type": "stream",
     "text": [
      "Requirement already satisfied: cftime in /opt/conda/lib/python3.11/site-packages (1.6.4.post1)\n",
      "Requirement already satisfied: numpy>1.13.3 in /home/jovyan/.local/lib/python3.11/site-packages (from cftime) (1.26.4)\n",
      "Note: you may need to restart the kernel to use updated packages.\n"
     ]
    }
   ],
   "source": [
    "pip install cftime"
   ]
  },
  {
   "cell_type": "code",
   "execution_count": 5,
   "id": "b75a6583-d7ce-4d96-a96b-ff83935ee0ed",
   "metadata": {
    "scrolled": true
   },
   "outputs": [
    {
     "name": "stdout",
     "output_type": "stream",
     "text": [
      "Requirement already satisfied: cmcrameri in /opt/conda/lib/python3.11/site-packages (1.9)\n",
      "Requirement already satisfied: matplotlib in /opt/conda/lib/python3.11/site-packages (from cmcrameri) (3.9.2)\n",
      "Requirement already satisfied: numpy in /home/jovyan/.local/lib/python3.11/site-packages (from cmcrameri) (1.26.4)\n",
      "Requirement already satisfied: packaging in /opt/conda/lib/python3.11/site-packages (from cmcrameri) (23.2)\n",
      "Requirement already satisfied: contourpy>=1.0.1 in /opt/conda/lib/python3.11/site-packages (from matplotlib->cmcrameri) (1.3.0)\n",
      "Requirement already satisfied: cycler>=0.10 in /opt/conda/lib/python3.11/site-packages (from matplotlib->cmcrameri) (0.12.1)\n",
      "Requirement already satisfied: fonttools>=4.22.0 in /opt/conda/lib/python3.11/site-packages (from matplotlib->cmcrameri) (4.54.1)\n",
      "Requirement already satisfied: kiwisolver>=1.3.1 in /opt/conda/lib/python3.11/site-packages (from matplotlib->cmcrameri) (1.4.7)\n",
      "Requirement already satisfied: pillow>=8 in /opt/conda/lib/python3.11/site-packages (from matplotlib->cmcrameri) (10.4.0)\n",
      "Requirement already satisfied: pyparsing>=2.3.1 in /opt/conda/lib/python3.11/site-packages (from matplotlib->cmcrameri) (3.1.4)\n",
      "Requirement already satisfied: python-dateutil>=2.7 in /opt/conda/lib/python3.11/site-packages (from matplotlib->cmcrameri) (2.8.2)\n",
      "Requirement already satisfied: six>=1.5 in /opt/conda/lib/python3.11/site-packages (from python-dateutil>=2.7->matplotlib->cmcrameri) (1.16.0)\n",
      "Note: you may need to restart the kernel to use updated packages.\n"
     ]
    }
   ],
   "source": [
    "pip install cmcrameri"
   ]
  },
  {
   "cell_type": "code",
   "execution_count": 6,
   "id": "184a4b69-3cdd-4f1a-9b15-18e85c3495d1",
   "metadata": {},
   "outputs": [
    {
     "name": "stdout",
     "output_type": "stream",
     "text": [
      "Requirement already satisfied: toolz in /opt/conda/lib/python3.11/site-packages (1.0.0)\n",
      "Note: you may need to restart the kernel to use updated packages.\n"
     ]
    }
   ],
   "source": [
    "pip install toolz"
   ]
  },
  {
   "cell_type": "code",
   "execution_count": 7,
   "id": "6829f86b-c25a-4bdb-8551-a8c7bda47245",
   "metadata": {},
   "outputs": [],
   "source": [
    "import xarray as xr\n",
    "import numpy as np\n",
    "import datetime\n",
    "import matplotlib.pyplot as plt\n",
    "import pandas as pd\n",
    "import cartopy.crs as ccrs\n",
    "import cartopy.feature as cfeature\n",
    "from cartopy.util import add_cyclic_point\n",
    "import math\n",
    "from collections import Counter\n",
    "from cmcrameri import cm\n",
    "import jsmetrics"
   ]
  },
  {
   "cell_type": "code",
   "execution_count": 8,
   "id": "87232a25-c649-4a24-a407-f18cde6c4f41",
   "metadata": {},
   "outputs": [],
   "source": [
    "def contour_f(data,contourdata,levels=np.arange(0,11),ccmap='PuBu',extend='max',limite_NS=42,clevels=np.arange(230,300,15),titulo='OLR y pr',cbarlabel='pr  [mm day$^{-1}$]'):\n",
    "    lons,lats=data.lon,data.lat\n",
    "    data, lon = add_cyclic_point(data, coord=lons)\n",
    "    contourdata, lon = add_cyclic_point(contourdata, coord=lons)\n",
    "    fig = plt.figure(figsize=(10, 6))\n",
    "\n",
    "    ax = plt.axes(projection=ccrs.Robinson())\n",
    "    ax.coastlines()\n",
    "    cs=ax.contourf(lon,lats,data,levels=levels,cmap=ccmap,extend=extend,transform=ccrs.PlateCarree())\n",
    "    cc=ax.contour(lon,lats,contourdata,levels=clevels,colors='k',transform=ccrs.PlateCarree())\n",
    "\n",
    "    ax.clabel(cc, cc.levels, inline=True, fontsize=10)\n",
    "\n",
    "    ax.set_extent([-180,180, -limite_NS, limite_NS], crs=ccrs.PlateCarree())\n",
    "    gl=ax.gridlines(draw_labels=True,color='gray', alpha=0.5, linestyle='--')\n",
    "    gl.top_labels = False\n",
    "    gl.right_labels = False\n",
    "    gl.xlabel_style = {'size': 13}\n",
    "    gl.ylabel_style = {'size': 13}\n",
    "    plt.title(titulo,fontsize=13)\n",
    "    plt.tight_layout()\n",
    "    plt.subplots_adjust(bottom=0.1)\n",
    "    cbar=plt.colorbar(cs,orientation='horizontal',fraction=0.046, pad=0.06)\n",
    "    cbar.ax.set_xlabel(cbarlabel)"
   ]
  },
  {
   "cell_type": "markdown",
   "id": "59033202-b2e4-43f6-9945-032bae5e42d6",
   "metadata": {},
   "source": [
    "### **<font color=\"Purple\"> Datos de HadGEM3 </font>**"
   ]
  },
  {
   "cell_type": "markdown",
   "id": "b9509155-fe37-4732-ad91-6d8c077dc29c",
   "metadata": {},
   "source": [
    "### **<font color=\"olive\"> Temperatura </font>**"
   ]
  },
  {
   "cell_type": "code",
   "execution_count": 9,
   "id": "16a33ece-526d-4d3c-94ea-4b671209061f",
   "metadata": {},
   "outputs": [],
   "source": [
    "tas_file = 'datasets/tasday79.nc'"
   ]
  },
  {
   "cell_type": "code",
   "execution_count": 10,
   "id": "293d2eff-dbc1-458a-97ce-344a06f7fc76",
   "metadata": {},
   "outputs": [],
   "source": [
    "#archivo historical\n",
    "tas_ds=xr.open_dataset(tas_file)\n",
    "tas=tas_ds['tas']"
   ]
  },
  {
   "cell_type": "code",
   "execution_count": 11,
   "id": "b359153c-bbc3-49fe-83cb-8120bdbf493f",
   "metadata": {},
   "outputs": [],
   "source": [
    "# Promedio de temperatura por estación \n",
    "tas_estacion=tas.groupby(tas.time.dt.season).mean(dim='time') #tas ya está a partir de 1979\n",
    "tas_djf = tas_estacion[0] #no tiene time"
   ]
  },
  {
   "cell_type": "code",
   "execution_count": 12,
   "id": "f472a596-4c4e-43bc-8114-39dd60aebead",
   "metadata": {},
   "outputs": [],
   "source": [
    "tas_inviernos = tas.sel(time=tas['time.month'].isin([12, 1, 2]))"
   ]
  },
  {
   "cell_type": "markdown",
   "id": "617fa812-724d-4d9f-9805-00624b083c2d",
   "metadata": {},
   "source": [
    "##### Para promedios móviles"
   ]
  },
  {
   "cell_type": "code",
   "execution_count": 13,
   "id": "2e033146-37cb-49fa-8a29-62d2bcf3c3db",
   "metadata": {},
   "outputs": [],
   "source": [
    "regionHG = tas_inviernos.sel(lat=slice(5, 50), lon=slice(227,297)) #solo djf, meses 1,2,12 "
   ]
  },
  {
   "cell_type": "code",
   "execution_count": 14,
   "id": "3ca7b0b6-937c-40af-bdc2-d47d930ab327",
   "metadata": {},
   "outputs": [],
   "source": [
    "tas_climyear = regionHG.groupby('time.year').mean('time')"
   ]
  },
  {
   "cell_type": "code",
   "execution_count": 15,
   "id": "677d0f74-2251-4f44-8dbb-1b52c33b2b26",
   "metadata": {},
   "outputs": [],
   "source": [
    "tasclimyearsuav = tas_climyear.rolling(year=20, center=True, min_periods=15).mean()"
   ]
  },
  {
   "cell_type": "code",
   "execution_count": 16,
   "id": "86232ed1-0859-4d5d-885d-a0126bcb0128",
   "metadata": {},
   "outputs": [],
   "source": [
    "tas_climyearstd = regionHG.groupby('time.year').std('time')"
   ]
  },
  {
   "cell_type": "code",
   "execution_count": 17,
   "id": "d6e31ef3-55be-45ae-9e49-0e363203035b",
   "metadata": {},
   "outputs": [],
   "source": [
    "tassuavstd = tas_climyearstd.rolling(year=20, center=True, min_periods=15).mean()"
   ]
  },
  {
   "cell_type": "markdown",
   "id": "55075da7-52ad-45f4-bbbf-120393d96253",
   "metadata": {},
   "source": [
    "### **<font color=\"olive\"> Viento </font>**"
   ]
  },
  {
   "cell_type": "code",
   "execution_count": 1,
   "id": "385b16df-fac6-4c0b-b60d-7be57d2060c9",
   "metadata": {},
   "outputs": [],
   "source": [
    "u_99= 'datasets/uaday200hpa_99_mx.nc'\n",
    "u_14='datasets/uaday200hpa_14_mx.nc'"
   ]
  },
  {
   "cell_type": "code",
   "execution_count": 19,
   "id": "d1f1ac95-332f-408e-acca-fe56961929c8",
   "metadata": {},
   "outputs": [],
   "source": [
    "# Abrir archivos y seleccionar variables a usar \n",
    "u_ds99=xr.open_dataset(u_99)\n",
    "ua99=u_ds99['ua']  \n",
    "u_ds14=xr.open_dataset(u_14)\n",
    "ua14=u_ds14['ua']"
   ]
  },
  {
   "cell_type": "code",
   "execution_count": 20,
   "id": "eefcdcf3-c375-4155-9267-044ee2fff15a",
   "metadata": {},
   "outputs": [],
   "source": [
    "uHG = xr.concat([ua99, ua14], dim='time')"
   ]
  },
  {
   "cell_type": "code",
   "execution_count": 21,
   "id": "735c61c3-2d64-4eee-97ea-6813b37a481c",
   "metadata": {},
   "outputs": [],
   "source": [
    "u_seasonHG=uHG.groupby(uHG.time.dt.season).mean(dim='time') \n",
    "u_DJFHG = u_seasonHG[0]"
   ]
  },
  {
   "cell_type": "code",
   "execution_count": 22,
   "id": "f61a3f46-af91-416b-8a41-a5d19d59eefb",
   "metadata": {},
   "outputs": [],
   "source": [
    "u_inviernosHG = uHG.sel(time=uHG ['time.month'].isin([12, 1, 2]))"
   ]
  },
  {
   "cell_type": "markdown",
   "id": "acc2ea16-da94-4b86-b5eb-cfbba5ca99ce",
   "metadata": {},
   "source": [
    "### **<font color=\"Purple\"> Datos de ERA-5 </font>**"
   ]
  },
  {
   "cell_type": "markdown",
   "id": "6c192f51-5d63-4846-90a4-4ed198b1b8ae",
   "metadata": {},
   "source": [
    "### **<font color=\"olive\"> Temperatura</font>**"
   ]
  },
  {
   "cell_type": "code",
   "execution_count": 23,
   "id": "c3e09d0b-d053-406b-aea8-14454ab40d5c",
   "metadata": {},
   "outputs": [],
   "source": [
    "# filet2m_era5 = 'datasets/t2m_daily.nc' este era con kelvin"
   ]
  },
  {
   "cell_type": "code",
   "execution_count": 24,
   "id": "50c8a004-e3a8-44e9-8e99-9a604ab38bb7",
   "metadata": {},
   "outputs": [],
   "source": [
    "filet2m_era5 = 'datasets/t2m_dailyC.nc'"
   ]
  },
  {
   "cell_type": "code",
   "execution_count": 25,
   "id": "ebd7d31d-9d8e-4abd-9517-d63d433de1a9",
   "metadata": {},
   "outputs": [],
   "source": [
    "t2m_ds=xr.open_dataset(filet2m_era5)\n",
    "t2m=t2m_ds['t2m']"
   ]
  },
  {
   "cell_type": "code",
   "execution_count": 26,
   "id": "7cef01ff-cc77-4974-a86c-78627de68e07",
   "metadata": {},
   "outputs": [],
   "source": [
    "t2m_anual = t2m.groupby(t2m.time.dt.year).mean(dim='time').mean(dim='year')\n",
    "# Calcular promedio estacional\n",
    "t2m_estacion=t2m.groupby(t2m.time.dt.season).mean(dim='time') \n",
    "#seleccionar inviernos\n",
    "invs_E5 = t2m_estacion[0]"
   ]
  },
  {
   "cell_type": "code",
   "execution_count": 27,
   "id": "0a4590d6-75f2-431f-8355-417d2cd2ef76",
   "metadata": {
    "scrolled": true
   },
   "outputs": [],
   "source": [
    "t2m_inviernos = t2m.sel(time=t2m['time.month'].isin([12, 1, 2]))"
   ]
  },
  {
   "cell_type": "code",
   "execution_count": 28,
   "id": "de4b369a-290e-495d-ab1e-776714dbd6be",
   "metadata": {},
   "outputs": [],
   "source": [
    "regionE5 = t2m_inviernos.sel(latitude=slice(50, 5), longitude=slice(227,297)) #solo djf, meses 1,2,12 "
   ]
  },
  {
   "cell_type": "markdown",
   "id": "a423d721-dbcb-41ce-8d47-d17d3385e55b",
   "metadata": {},
   "source": [
    "##### Para promedios móviles"
   ]
  },
  {
   "cell_type": "code",
   "execution_count": 29,
   "id": "f927fe60-4bd9-44db-bf52-f28ea8ed4db2",
   "metadata": {},
   "outputs": [],
   "source": [
    "t2m_climyear = regionE5.groupby('time.year').mean('time')"
   ]
  },
  {
   "cell_type": "code",
   "execution_count": 30,
   "id": "4775c4b0-c9a7-424e-8a87-f5caf0df766d",
   "metadata": {},
   "outputs": [],
   "source": [
    "t2mclimyearsuav = t2m_climyear.rolling(year=20, center=True, min_periods=15).mean()"
   ]
  },
  {
   "cell_type": "code",
   "execution_count": 31,
   "id": "47307f7a-1b4d-4cbb-87a3-9e3f3fedeace",
   "metadata": {},
   "outputs": [],
   "source": [
    "t2m_climyearstd = regionE5.groupby('time.year').std('time')"
   ]
  },
  {
   "cell_type": "code",
   "execution_count": 32,
   "id": "1b35bc69-8c35-43b4-81f3-36435ea5fc1e",
   "metadata": {},
   "outputs": [],
   "source": [
    "t2msuavstd = t2m_climyearstd.rolling(year=20, center=True, min_periods=15).mean()"
   ]
  },
  {
   "cell_type": "markdown",
   "id": "3cc5a6a9-0994-476d-8788-5a35e897dc2f",
   "metadata": {},
   "source": [
    "### **<font color=\"olive\"> Viento </font>**"
   ]
  },
  {
   "cell_type": "code",
   "execution_count": 33,
   "id": "a66221f8-8b7c-4663-86ee-9b80ac062edd",
   "metadata": {},
   "outputs": [],
   "source": [
    "fileu_era5 = 'datasets/u_200_500_daily1979-2019.nc'"
   ]
  },
  {
   "cell_type": "code",
   "execution_count": 34,
   "id": "8a07990d-d42e-4991-b76f-e8f0bf77a624",
   "metadata": {},
   "outputs": [],
   "source": [
    "u_ds = xr.open_dataset(fileu_era5)\n",
    "u_era5 = u_ds['u']"
   ]
  },
  {
   "cell_type": "code",
   "execution_count": 35,
   "id": "77a3dd7a-ca94-4bf0-9aad-9e76e2d19d28",
   "metadata": {},
   "outputs": [],
   "source": [
    "#Seleccionar solo 200 hPa \n",
    "u200E5 = u_era5.sel(level=200)"
   ]
  },
  {
   "cell_type": "code",
   "execution_count": 36,
   "id": "af86e8d5-f080-453b-90fe-81e5a8ad8874",
   "metadata": {},
   "outputs": [],
   "source": [
    "u200E5_anual=u200E5.mean(dim='time') "
   ]
  },
  {
   "cell_type": "code",
   "execution_count": 37,
   "id": "7e19e3a9-c858-452f-bbc9-fc5e5d0ca5ca",
   "metadata": {},
   "outputs": [],
   "source": [
    "u200E5_season = u200E5.groupby(u200E5.time.dt.season).mean(dim='time')\n",
    "uE5_DJF = u200E5_season[0]"
   ]
  },
  {
   "cell_type": "code",
   "execution_count": 38,
   "id": "2e948b13-40b2-4fb9-aae1-e09000838ec3",
   "metadata": {},
   "outputs": [],
   "source": [
    "u_inviernosE5 = u200E5.sel(time=u200E5['time.month'].isin([12, 1, 2]))"
   ]
  },
  {
   "cell_type": "markdown",
   "id": "4a3bde95-b1d8-4362-9ea2-ae8c97277af4",
   "metadata": {},
   "source": [
    "### **<font color=\"olive\"> CAOs de HadGEM </font>**"
   ]
  },
  {
   "cell_type": "code",
   "execution_count": 39,
   "id": "c6d01a85-eb03-479b-9888-bde975dbede2",
   "metadata": {},
   "outputs": [],
   "source": [
    "def CAOS_MXgp(Tdias, mean_mv, std_mv):\n",
    "    \"\"\"\n",
    "    Tdias son todos los días\n",
    "    mean_mv es el promedio móvil para cada 10 años\n",
    "    std_mv es la desviación estándar para cada 10 años\n",
    "    \"\"\"\n",
    "    \n",
    "    # Usar la temperatura suavizada (promedio móvil de 10 años)\n",
    "    mean = mean_mv.values  # Temperaturas suavizadas (promedio móvil)\n",
    "    desv_est = std_mv.values  # Desviación estándar suavizada (promedio móvil)\n",
    "    years=mean_mv.year.values\n",
    "    # Find the first index where value is not NaN\n",
    "    first_valid_index = np.argmax(~np.isnan(mean))\n",
    "    # Find the final where value is not NaN\n",
    "    last_valid_index = np.argmax(np.isnan(mean))\n",
    "    print(last_valid_index)\n",
    "    init_year=years[first_valid_index]\n",
    "    last_valid_index = np.where(~np.isnan(mean))[0][-1]\n",
    "    fyear=years[last_valid_index]\n",
    "    print(init_year,fyear)\n",
    "    dias_CAO = []\n",
    "    temp_list = []\n",
    "\n",
    "    for i in range(0,len(Tdias)-1,1): \n",
    "        # Obtener el año del día actual\n",
    "        year = Tdias['time'].dt.year[i]  # Año del día actual\n",
    "        \n",
    "        # Calcular el índice para la serie de 1979 a 2014\n",
    "        index = year - 1979  # Calculamos el índice para la serie de 1979 a 2014\n",
    "       # print(year.values)\n",
    "        if year<init_year:\n",
    "            index=first_valid_index\n",
    "        if year>fyear:\n",
    "            index=last_valid_index\n",
    "            # 🔍 Find the index of the last non-NaN value\n",
    "            \n",
    "        # Verificar que el índice esté dentro del rango correcto\n",
    "        if index < 0 or index >= len(mean):\n",
    "            continue  # Si el índice está fuera de rango, se salta esa iteración\n",
    "        \n",
    "        # Obtener la temperatura media suavizada y la desviación estándar suavizada para el año correspondiente\n",
    "        Tmean_suavizada = mean[index]  # Obtener el promedio para ese año\n",
    "        \n",
    "        Tstd_suavizada = desv_est[index]  # Desviación estándar para ese año\n",
    "        #print(Tstd_suavizada)\n",
    "        # Condición de CAO con la temperatura suavizada y la desviación estándar suavizada\n",
    "        condicionCAO = Tmean_suavizada - 2 * Tstd_suavizada\n",
    "        #print(Tdias[i],condicionCAO)\n",
    "        #print(Tdias['time'][i].values,float(Tdias[i]),float(condicionCAO))\n",
    "        # Verificar si los días cumplen la condición de CAO (temperatura inferior al umbral)\n",
    "        if Tdias[i] < condicionCAO and Tdias[i+1] < condicionCAO:\n",
    "            dias_CAO.append(i)\n",
    "            #print(Tdias[i],condicionCAO)\n",
    "            #quit()\n",
    "            dias_CAO.append(i + 1)\n",
    "        #if i>10000:\n",
    "        #    break\n",
    "    # Eliminar duplicados en los índices de días CAO\n",
    "    dias_CAOS = list(set(dias_CAO))  # Eliminar duplicados, pero convertir en lista\n",
    "    print(len(dias_CAOS))\n",
    "    # Obtener las fechas correspondientes usando los índices\n",
    "    dias_CAO_dates = Tdias['time'].values[dias_CAOS]  # Aquí accedes correctamente con los índices de días_CAOS\n",
    "    \n",
    "    # Convertir las fechas a un calendario gregoriano estándar \n",
    "    fechas_CAO_datetime = [pd.to_datetime(str(date)) for date in dias_CAO_dates]\n",
    "    \n",
    "    # Crear el diccionario con fechas y sus índices\n",
    "    fechas_indices = {fecha: dias_CAOS[i] for i, fecha in enumerate(fechas_CAO_datetime)}\n",
    "        \n",
    "    # Obtener las temperaturas de los días identificados como CAO\n",
    "    for fecha, indice in fechas_indices.items():\n",
    "        temperatura = Tdias[indice].values  # Obtener la temperatura del día indicado\n",
    "        temp_list.append(temperatura)\n",
    "\n",
    "    # Promedio de las temperaturas en los días CAO\n",
    "    promedioT = np.mean(temp_list)\n",
    "   \n",
    "    return {'fechas': fechas_indices, 'temperaturas': temp_list, 'freq': len(dias_CAOS) / 36, 'promedioT': promedioT}\n"
   ]
  },
  {
   "cell_type": "code",
   "execution_count": 40,
   "id": "014a17c9-be48-4be6-8217-be569600b9c1",
   "metadata": {
    "scrolled": true
   },
   "outputs": [],
   "source": [
    "#Elegir un cuadro de 4x4\n",
    "latitudes = tas_inviernos.sel(lat=slice(22,27))\n",
    "longitudes = latitudes.sel(lon=slice(255,262))"
   ]
  },
  {
   "cell_type": "code",
   "execution_count": 41,
   "id": "546f824c-10de-4244-bf79-55af7d350732",
   "metadata": {},
   "outputs": [],
   "source": [
    "weights = np.cos(np.deg2rad(latitudes.lat))\n",
    "weights.name = \"weights\""
   ]
  },
  {
   "cell_type": "code",
   "execution_count": 42,
   "id": "0270e777-5a37-4943-a3a8-72bbe719c009",
   "metadata": {},
   "outputs": [],
   "source": [
    "tas_weighted = longitudes.weighted(weights)"
   ]
  },
  {
   "cell_type": "code",
   "execution_count": 43,
   "id": "926323aa-a4b3-4cec-a152-b13a007f8e0f",
   "metadata": {
    "scrolled": true
   },
   "outputs": [],
   "source": [
    "norte = tas_weighted.mean(['lon','lat']) "
   ]
  },
  {
   "cell_type": "code",
   "execution_count": 44,
   "id": "80c840c1-a822-4175-a408-843785669a72",
   "metadata": {},
   "outputs": [],
   "source": [
    "tasclimyearsuav_alineado = tasclimyearsuav.sel(lat=slice(22,27),lon=slice(255,262)).mean(dim=['lat','lon'])\n",
    "tassuavstd_alineado = tassuavstd.sel(lat=slice(22,27),lon=slice(255,262)).mean(dim=['lat','lon'])"
   ]
  },
  {
   "cell_type": "code",
   "execution_count": 45,
   "id": "663bfb00-6194-4440-89db-3a293c5109bf",
   "metadata": {},
   "outputs": [
    {
     "name": "stdout",
     "output_type": "stream",
     "text": [
      "0\n",
      "1984 2010\n",
      "48\n"
     ]
    }
   ],
   "source": [
    "CAOsHG = CAOS_MXgp(norte,tasclimyearsuav_alineado,tassuavstd_alineado) \n",
    "fechas_caoHG = CAOsHG['fechas']"
   ]
  },
  {
   "cell_type": "code",
   "execution_count": 46,
   "id": "0bb08a6e-a782-411a-a37c-14a95a00d086",
   "metadata": {},
   "outputs": [
    {
     "data": {
      "text/plain": [
       "48"
      ]
     },
     "execution_count": 46,
     "metadata": {},
     "output_type": "execute_result"
    }
   ],
   "source": [
    "len(fechas_caoHG)"
   ]
  },
  {
   "cell_type": "code",
   "execution_count": 47,
   "id": "bba56dc9-e650-4586-8ece-9c1221a54f09",
   "metadata": {},
   "outputs": [],
   "source": [
    "indicesHG=[fechas_caoHG[key] for key in CAOsHG['fechas'].keys()]"
   ]
  },
  {
   "cell_type": "code",
   "execution_count": 48,
   "id": "a7e0a2e2-6e64-4b9b-98f2-11897c8cfd2d",
   "metadata": {},
   "outputs": [],
   "source": [
    "tempsHG = tas_inviernos.isel(time=indicesHG)"
   ]
  },
  {
   "cell_type": "code",
   "execution_count": 49,
   "id": "5984b395-0c22-40fc-aaee-45e4bc7ddae5",
   "metadata": {
    "scrolled": true
   },
   "outputs": [],
   "source": [
    "tempsCAOHG=tempsHG.mean('time')"
   ]
  },
  {
   "cell_type": "code",
   "execution_count": 50,
   "id": "2430396c-d040-4952-ba1e-e726a839eb0e",
   "metadata": {
    "scrolled": true
   },
   "outputs": [],
   "source": [
    "anomaliaHG = tempsCAOHG - tas_djf"
   ]
  },
  {
   "cell_type": "code",
   "execution_count": 51,
   "id": "ff68591f-7a3a-4547-b349-c26957fbc8cb",
   "metadata": {
    "scrolled": true
   },
   "outputs": [],
   "source": [
    "#VIENTO\n",
    "u_et_caoHG = u_inviernosHG.isel(time=indicesHG)"
   ]
  },
  {
   "cell_type": "code",
   "execution_count": 52,
   "id": "b9719fbe-6316-4339-bb06-355cfe117c74",
   "metadata": {},
   "outputs": [],
   "source": [
    "vientoCAOHG = u_et_caoHG.mean('time')"
   ]
  },
  {
   "cell_type": "code",
   "execution_count": 53,
   "id": "eab6134c-f91d-4510-a62e-137e8565a31a",
   "metadata": {},
   "outputs": [],
   "source": [
    "u_anomaliaHG = vientoCAOHG - u_DJFHG"
   ]
  },
  {
   "cell_type": "markdown",
   "id": "00160baf-85a8-4806-95d5-948d80ac2338",
   "metadata": {},
   "source": [
    "### **<font color=\"olive\"> CAOs de ERA-5</font>**"
   ]
  },
  {
   "cell_type": "code",
   "execution_count": 54,
   "id": "55f58f31-becd-4e86-a236-3f281cf97705",
   "metadata": {},
   "outputs": [],
   "source": [
    "def CAOS_MXgpE5(Tdias, mean_mv, std_mv):\n",
    "    \"\"\"\n",
    "    Tdias son todos los días\n",
    "    mean_mv es el promedio móvil para cada 10 años\n",
    "    std_mv es la desviación estándar para cada 10 años\n",
    "    \"\"\"\n",
    "    \n",
    "    # Usar la temperatura suavizada (promedio móvil de 10 años)\n",
    "    mean = mean_mv.values  # Temperaturas suavizadas (promedio móvil)\n",
    "    desv_est = std_mv.values  # Desviación estándar suavizada (promedio móvil)\n",
    "    years=mean_mv.year.values\n",
    "    # Find the first index where value is not NaN\n",
    "    first_valid_index = np.argmax(~np.isnan(mean))\n",
    "    # Find the final where value is not NaN\n",
    "    last_valid_index = np.argmax(np.isnan(mean))\n",
    "    print(last_valid_index)\n",
    "    init_year=years[first_valid_index]\n",
    "    last_valid_index = np.where(~np.isnan(mean))[0][-1]\n",
    "    fyear=years[last_valid_index]\n",
    "    print(init_year,fyear)\n",
    "    dias_CAO = []\n",
    "    temp_list = []\n",
    "\n",
    "    for i in range(len(Tdias)-1): \n",
    "        # Obtener el año del día actual\n",
    "        year = Tdias['time'].dt.year[i]  # Año del día actual\n",
    "        \n",
    "        # Calcular el índice para la serie de 1979 a 2019\n",
    "        index = year - 1979  # Calculamos el índice para la serie de 1979 a 2019\n",
    "        # print(year.values)\n",
    "        if year<init_year:\n",
    "            index=first_valid_index\n",
    "        elif year>fyear:\n",
    "            index=last_valid_index\n",
    "        # Verificar que el índice esté dentro del rango correcto\n",
    "        if index < 0 or index >= len(mean):\n",
    "            continue  # Si el índice está fuera de rango, se salta esa iteración\n",
    "        \n",
    "        # Obtener la temperatura media suavizada y la desviación estándar suavizada para el año correspondiente\n",
    "        Tmean_suavizada = mean[index]  # Obtener el promedio para ese año\n",
    "        Tstd_suavizada = desv_est[index]  # Desviación estándar para ese año\n",
    "        \n",
    "        # Condición de CAO con la temperatura suavizada y la desviación estándar suavizada\n",
    "        condicionCAO = Tmean_suavizada - 2 * Tstd_suavizada\n",
    "        \n",
    "        # Verificar si los días cumplen la condición de CAO (temperatura inferior al umbral)\n",
    "        if Tdias[i] < condicionCAO and Tdias[i+1] < condicionCAO:\n",
    "            dias_CAO.append(i)\n",
    "            dias_CAO.append(i + 1)\n",
    "\n",
    "    # Eliminar duplicados en los índices de días CAO\n",
    "    dias_CAOS = list(set(dias_CAO))  # Eliminar duplicados, pero convertir en lista\n",
    "\n",
    "    # Obtener las fechas correspondientes usando los índices\n",
    "    dias_CAO_dates = Tdias['time'].values[dias_CAOS]  # Aquí accedes correctamente con los índices de días_CAOS\n",
    "    \n",
    "    # Convertir las fechas a un calendario gregoriano estándar \n",
    "    fechas_CAO_datetime = [pd.to_datetime(str(date)) for date in dias_CAO_dates]\n",
    "    \n",
    "    # Crear el diccionario con fechas y sus índices\n",
    "    fechas_indices = {fecha: dias_CAOS[i] for i, fecha in enumerate(fechas_CAO_datetime)}\n",
    "        \n",
    "    # Obtener las temperaturas de los días identificados como CAO\n",
    "    for fecha, indice in fechas_indices.items():\n",
    "        temperatura = Tdias[indice].values  # Obtener la temperatura del día indicado\n",
    "        temp_list.append(temperatura)\n",
    "\n",
    "    # Promedio de las temperaturas en los días CAO\n",
    "    promedioT = np.mean(temp_list)\n",
    "   \n",
    "    return {'fechas': fechas_indices, 'temperaturas': temp_list, 'freq': len(dias_CAOS) / 36, 'promedioT': promedioT}\n"
   ]
  },
  {
   "cell_type": "code",
   "execution_count": 55,
   "id": "6e32df19-4d58-4df4-94b5-458f469629db",
   "metadata": {},
   "outputs": [],
   "source": [
    "#Elegir un cuadro de 4x4 (el mismo de las simulaciones)\n",
    "mx_slicedE5 = t2m_inviernos.sel(latitude=slice(27,22)) \n",
    "mx_slicedE5 = mx_slicedE5.sel(longitude=slice(255,262)) "
   ]
  },
  {
   "cell_type": "code",
   "execution_count": 56,
   "id": "4bcc711e-4831-44aa-93fb-ef433b745829",
   "metadata": {},
   "outputs": [],
   "source": [
    "# mx_slicedE5 = mx_slicedE5.rename({'latitude': 'lat', 'longitude': 'lon'})"
   ]
  },
  {
   "cell_type": "code",
   "execution_count": 57,
   "id": "27d2b58a-f68a-47a6-9748-cee9b80fb0dd",
   "metadata": {},
   "outputs": [],
   "source": [
    "# mx_slicedE5=mx_slicedE5.rename('t2m') "
   ]
  },
  {
   "cell_type": "code",
   "execution_count": 58,
   "id": "eb976e73-01ed-4c67-878a-43ed142bd52a",
   "metadata": {},
   "outputs": [],
   "source": [
    "weights = np.cos(np.deg2rad(mx_slicedE5.latitude))\n",
    "weights.name = \"weights\""
   ]
  },
  {
   "cell_type": "code",
   "execution_count": 59,
   "id": "e6bed80b-08d9-4dea-bcc3-49eb6fd2d3a7",
   "metadata": {},
   "outputs": [],
   "source": [
    "t2m_weighted = mx_slicedE5.weighted(weights)"
   ]
  },
  {
   "cell_type": "code",
   "execution_count": 60,
   "id": "0d6f8339-ba04-4c25-82f0-3f25eedc0f44",
   "metadata": {
    "scrolled": true
   },
   "outputs": [
    {
     "data": {
      "text/html": [
       "<div><svg style=\"position: absolute; width: 0; height: 0; overflow: hidden\">\n",
       "<defs>\n",
       "<symbol id=\"icon-database\" viewBox=\"0 0 32 32\">\n",
       "<path d=\"M16 0c-8.837 0-16 2.239-16 5v4c0 2.761 7.163 5 16 5s16-2.239 16-5v-4c0-2.761-7.163-5-16-5z\"></path>\n",
       "<path d=\"M16 17c-8.837 0-16-2.239-16-5v6c0 2.761 7.163 5 16 5s16-2.239 16-5v-6c0 2.761-7.163 5-16 5z\"></path>\n",
       "<path d=\"M16 26c-8.837 0-16-2.239-16-5v6c0 2.761 7.163 5 16 5s16-2.239 16-5v-6c0 2.761-7.163 5-16 5z\"></path>\n",
       "</symbol>\n",
       "<symbol id=\"icon-file-text2\" viewBox=\"0 0 32 32\">\n",
       "<path d=\"M28.681 7.159c-0.694-0.947-1.662-2.053-2.724-3.116s-2.169-2.030-3.116-2.724c-1.612-1.182-2.393-1.319-2.841-1.319h-15.5c-1.378 0-2.5 1.121-2.5 2.5v27c0 1.378 1.122 2.5 2.5 2.5h23c1.378 0 2.5-1.122 2.5-2.5v-19.5c0-0.448-0.137-1.23-1.319-2.841zM24.543 5.457c0.959 0.959 1.712 1.825 2.268 2.543h-4.811v-4.811c0.718 0.556 1.584 1.309 2.543 2.268zM28 29.5c0 0.271-0.229 0.5-0.5 0.5h-23c-0.271 0-0.5-0.229-0.5-0.5v-27c0-0.271 0.229-0.5 0.5-0.5 0 0 15.499-0 15.5 0v7c0 0.552 0.448 1 1 1h7v19.5z\"></path>\n",
       "<path d=\"M23 26h-14c-0.552 0-1-0.448-1-1s0.448-1 1-1h14c0.552 0 1 0.448 1 1s-0.448 1-1 1z\"></path>\n",
       "<path d=\"M23 22h-14c-0.552 0-1-0.448-1-1s0.448-1 1-1h14c0.552 0 1 0.448 1 1s-0.448 1-1 1z\"></path>\n",
       "<path d=\"M23 18h-14c-0.552 0-1-0.448-1-1s0.448-1 1-1h14c0.552 0 1 0.448 1 1s-0.448 1-1 1z\"></path>\n",
       "</symbol>\n",
       "</defs>\n",
       "</svg>\n",
       "<style>/* CSS stylesheet for displaying xarray objects in jupyterlab.\n",
       " *\n",
       " */\n",
       "\n",
       ":root {\n",
       "  --xr-font-color0: var(--jp-content-font-color0, rgba(0, 0, 0, 1));\n",
       "  --xr-font-color2: var(--jp-content-font-color2, rgba(0, 0, 0, 0.54));\n",
       "  --xr-font-color3: var(--jp-content-font-color3, rgba(0, 0, 0, 0.38));\n",
       "  --xr-border-color: var(--jp-border-color2, #e0e0e0);\n",
       "  --xr-disabled-color: var(--jp-layout-color3, #bdbdbd);\n",
       "  --xr-background-color: var(--jp-layout-color0, white);\n",
       "  --xr-background-color-row-even: var(--jp-layout-color1, white);\n",
       "  --xr-background-color-row-odd: var(--jp-layout-color2, #eeeeee);\n",
       "}\n",
       "\n",
       "html[theme=\"dark\"],\n",
       "html[data-theme=\"dark\"],\n",
       "body[data-theme=\"dark\"],\n",
       "body.vscode-dark {\n",
       "  --xr-font-color0: rgba(255, 255, 255, 1);\n",
       "  --xr-font-color2: rgba(255, 255, 255, 0.54);\n",
       "  --xr-font-color3: rgba(255, 255, 255, 0.38);\n",
       "  --xr-border-color: #1f1f1f;\n",
       "  --xr-disabled-color: #515151;\n",
       "  --xr-background-color: #111111;\n",
       "  --xr-background-color-row-even: #111111;\n",
       "  --xr-background-color-row-odd: #313131;\n",
       "}\n",
       "\n",
       ".xr-wrap {\n",
       "  display: block !important;\n",
       "  min-width: 300px;\n",
       "  max-width: 700px;\n",
       "}\n",
       "\n",
       ".xr-text-repr-fallback {\n",
       "  /* fallback to plain text repr when CSS is not injected (untrusted notebook) */\n",
       "  display: none;\n",
       "}\n",
       "\n",
       ".xr-header {\n",
       "  padding-top: 6px;\n",
       "  padding-bottom: 6px;\n",
       "  margin-bottom: 4px;\n",
       "  border-bottom: solid 1px var(--xr-border-color);\n",
       "}\n",
       "\n",
       ".xr-header > div,\n",
       ".xr-header > ul {\n",
       "  display: inline;\n",
       "  margin-top: 0;\n",
       "  margin-bottom: 0;\n",
       "}\n",
       "\n",
       ".xr-obj-type,\n",
       ".xr-array-name {\n",
       "  margin-left: 2px;\n",
       "  margin-right: 10px;\n",
       "}\n",
       "\n",
       ".xr-obj-type {\n",
       "  color: var(--xr-font-color2);\n",
       "}\n",
       "\n",
       ".xr-sections {\n",
       "  padding-left: 0 !important;\n",
       "  display: grid;\n",
       "  grid-template-columns: 150px auto auto 1fr 0 20px 0 20px;\n",
       "}\n",
       "\n",
       ".xr-section-item {\n",
       "  display: contents;\n",
       "}\n",
       "\n",
       ".xr-section-item input {\n",
       "  display: inline-block;\n",
       "  opacity: 0;\n",
       "  height: 0;\n",
       "}\n",
       "\n",
       ".xr-section-item input + label {\n",
       "  color: var(--xr-disabled-color);\n",
       "}\n",
       "\n",
       ".xr-section-item input:enabled + label {\n",
       "  cursor: pointer;\n",
       "  color: var(--xr-font-color2);\n",
       "}\n",
       "\n",
       ".xr-section-item input:focus + label {\n",
       "  border: 2px solid var(--xr-font-color0);\n",
       "}\n",
       "\n",
       ".xr-section-item input:enabled + label:hover {\n",
       "  color: var(--xr-font-color0);\n",
       "}\n",
       "\n",
       ".xr-section-summary {\n",
       "  grid-column: 1;\n",
       "  color: var(--xr-font-color2);\n",
       "  font-weight: 500;\n",
       "}\n",
       "\n",
       ".xr-section-summary > span {\n",
       "  display: inline-block;\n",
       "  padding-left: 0.5em;\n",
       "}\n",
       "\n",
       ".xr-section-summary-in:disabled + label {\n",
       "  color: var(--xr-font-color2);\n",
       "}\n",
       "\n",
       ".xr-section-summary-in + label:before {\n",
       "  display: inline-block;\n",
       "  content: \"►\";\n",
       "  font-size: 11px;\n",
       "  width: 15px;\n",
       "  text-align: center;\n",
       "}\n",
       "\n",
       ".xr-section-summary-in:disabled + label:before {\n",
       "  color: var(--xr-disabled-color);\n",
       "}\n",
       "\n",
       ".xr-section-summary-in:checked + label:before {\n",
       "  content: \"▼\";\n",
       "}\n",
       "\n",
       ".xr-section-summary-in:checked + label > span {\n",
       "  display: none;\n",
       "}\n",
       "\n",
       ".xr-section-summary,\n",
       ".xr-section-inline-details {\n",
       "  padding-top: 4px;\n",
       "  padding-bottom: 4px;\n",
       "}\n",
       "\n",
       ".xr-section-inline-details {\n",
       "  grid-column: 2 / -1;\n",
       "}\n",
       "\n",
       ".xr-section-details {\n",
       "  display: none;\n",
       "  grid-column: 1 / -1;\n",
       "  margin-bottom: 5px;\n",
       "}\n",
       "\n",
       ".xr-section-summary-in:checked ~ .xr-section-details {\n",
       "  display: contents;\n",
       "}\n",
       "\n",
       ".xr-array-wrap {\n",
       "  grid-column: 1 / -1;\n",
       "  display: grid;\n",
       "  grid-template-columns: 20px auto;\n",
       "}\n",
       "\n",
       ".xr-array-wrap > label {\n",
       "  grid-column: 1;\n",
       "  vertical-align: top;\n",
       "}\n",
       "\n",
       ".xr-preview {\n",
       "  color: var(--xr-font-color3);\n",
       "}\n",
       "\n",
       ".xr-array-preview,\n",
       ".xr-array-data {\n",
       "  padding: 0 5px !important;\n",
       "  grid-column: 2;\n",
       "}\n",
       "\n",
       ".xr-array-data,\n",
       ".xr-array-in:checked ~ .xr-array-preview {\n",
       "  display: none;\n",
       "}\n",
       "\n",
       ".xr-array-in:checked ~ .xr-array-data,\n",
       ".xr-array-preview {\n",
       "  display: inline-block;\n",
       "}\n",
       "\n",
       ".xr-dim-list {\n",
       "  display: inline-block !important;\n",
       "  list-style: none;\n",
       "  padding: 0 !important;\n",
       "  margin: 0;\n",
       "}\n",
       "\n",
       ".xr-dim-list li {\n",
       "  display: inline-block;\n",
       "  padding: 0;\n",
       "  margin: 0;\n",
       "}\n",
       "\n",
       ".xr-dim-list:before {\n",
       "  content: \"(\";\n",
       "}\n",
       "\n",
       ".xr-dim-list:after {\n",
       "  content: \")\";\n",
       "}\n",
       "\n",
       ".xr-dim-list li:not(:last-child):after {\n",
       "  content: \",\";\n",
       "  padding-right: 5px;\n",
       "}\n",
       "\n",
       ".xr-has-index {\n",
       "  font-weight: bold;\n",
       "}\n",
       "\n",
       ".xr-var-list,\n",
       ".xr-var-item {\n",
       "  display: contents;\n",
       "}\n",
       "\n",
       ".xr-var-item > div,\n",
       ".xr-var-item label,\n",
       ".xr-var-item > .xr-var-name span {\n",
       "  background-color: var(--xr-background-color-row-even);\n",
       "  margin-bottom: 0;\n",
       "}\n",
       "\n",
       ".xr-var-item > .xr-var-name:hover span {\n",
       "  padding-right: 5px;\n",
       "}\n",
       "\n",
       ".xr-var-list > li:nth-child(odd) > div,\n",
       ".xr-var-list > li:nth-child(odd) > label,\n",
       ".xr-var-list > li:nth-child(odd) > .xr-var-name span {\n",
       "  background-color: var(--xr-background-color-row-odd);\n",
       "}\n",
       "\n",
       ".xr-var-name {\n",
       "  grid-column: 1;\n",
       "}\n",
       "\n",
       ".xr-var-dims {\n",
       "  grid-column: 2;\n",
       "}\n",
       "\n",
       ".xr-var-dtype {\n",
       "  grid-column: 3;\n",
       "  text-align: right;\n",
       "  color: var(--xr-font-color2);\n",
       "}\n",
       "\n",
       ".xr-var-preview {\n",
       "  grid-column: 4;\n",
       "}\n",
       "\n",
       ".xr-index-preview {\n",
       "  grid-column: 2 / 5;\n",
       "  color: var(--xr-font-color2);\n",
       "}\n",
       "\n",
       ".xr-var-name,\n",
       ".xr-var-dims,\n",
       ".xr-var-dtype,\n",
       ".xr-preview,\n",
       ".xr-attrs dt {\n",
       "  white-space: nowrap;\n",
       "  overflow: hidden;\n",
       "  text-overflow: ellipsis;\n",
       "  padding-right: 10px;\n",
       "}\n",
       "\n",
       ".xr-var-name:hover,\n",
       ".xr-var-dims:hover,\n",
       ".xr-var-dtype:hover,\n",
       ".xr-attrs dt:hover {\n",
       "  overflow: visible;\n",
       "  width: auto;\n",
       "  z-index: 1;\n",
       "}\n",
       "\n",
       ".xr-var-attrs,\n",
       ".xr-var-data,\n",
       ".xr-index-data {\n",
       "  display: none;\n",
       "  background-color: var(--xr-background-color) !important;\n",
       "  padding-bottom: 5px !important;\n",
       "}\n",
       "\n",
       ".xr-var-attrs-in:checked ~ .xr-var-attrs,\n",
       ".xr-var-data-in:checked ~ .xr-var-data,\n",
       ".xr-index-data-in:checked ~ .xr-index-data {\n",
       "  display: block;\n",
       "}\n",
       "\n",
       ".xr-var-data > table {\n",
       "  float: right;\n",
       "}\n",
       "\n",
       ".xr-var-name span,\n",
       ".xr-var-data,\n",
       ".xr-index-name div,\n",
       ".xr-index-data,\n",
       ".xr-attrs {\n",
       "  padding-left: 25px !important;\n",
       "}\n",
       "\n",
       ".xr-attrs,\n",
       ".xr-var-attrs,\n",
       ".xr-var-data,\n",
       ".xr-index-data {\n",
       "  grid-column: 1 / -1;\n",
       "}\n",
       "\n",
       "dl.xr-attrs {\n",
       "  padding: 0;\n",
       "  margin: 0;\n",
       "  display: grid;\n",
       "  grid-template-columns: 125px auto;\n",
       "}\n",
       "\n",
       ".xr-attrs dt,\n",
       ".xr-attrs dd {\n",
       "  padding: 0;\n",
       "  margin: 0;\n",
       "  float: left;\n",
       "  padding-right: 10px;\n",
       "  width: auto;\n",
       "}\n",
       "\n",
       ".xr-attrs dt {\n",
       "  font-weight: normal;\n",
       "  grid-column: 1;\n",
       "}\n",
       "\n",
       ".xr-attrs dt:hover span {\n",
       "  display: inline-block;\n",
       "  background: var(--xr-background-color);\n",
       "  padding-right: 10px;\n",
       "}\n",
       "\n",
       ".xr-attrs dd {\n",
       "  grid-column: 2;\n",
       "  white-space: pre-wrap;\n",
       "  word-break: break-all;\n",
       "}\n",
       "\n",
       ".xr-icon-database,\n",
       ".xr-icon-file-text2,\n",
       ".xr-no-icon {\n",
       "  display: inline-block;\n",
       "  vertical-align: middle;\n",
       "  width: 1em;\n",
       "  height: 1.5em !important;\n",
       "  stroke-width: 0;\n",
       "  stroke: currentColor;\n",
       "  fill: currentColor;\n",
       "}\n",
       "</style><pre class='xr-text-repr-fallback'>&lt;xarray.DataArray &#x27;t2m&#x27; (time: 3669)&gt; Size: 29kB\n",
       "array([12.75372129,  5.21066854,  4.73186809, ..., 18.61350525,\n",
       "       19.94468353, 20.93958231])\n",
       "Coordinates:\n",
       "  * time     (time) datetime64[ns] 29kB 1979-01-01T11:30:00 ... 2019-02-28T11...</pre><div class='xr-wrap' style='display:none'><div class='xr-header'><div class='xr-obj-type'>xarray.DataArray</div><div class='xr-array-name'>'t2m'</div><ul class='xr-dim-list'><li><span class='xr-has-index'>time</span>: 3669</li></ul></div><ul class='xr-sections'><li class='xr-section-item'><div class='xr-array-wrap'><input id='section-a18ed277-9ad9-4a90-b1c6-20deb8a9b030' class='xr-array-in' type='checkbox' checked><label for='section-a18ed277-9ad9-4a90-b1c6-20deb8a9b030' title='Show/hide data repr'><svg class='icon xr-icon-database'><use xlink:href='#icon-database'></use></svg></label><div class='xr-array-preview xr-preview'><span>12.75 5.211 4.732 10.99 13.37 14.69 ... 16.5 16.6 18.61 19.94 20.94</span></div><div class='xr-array-data'><pre>array([12.75372129,  5.21066854,  4.73186809, ..., 18.61350525,\n",
       "       19.94468353, 20.93958231])</pre></div></div></li><li class='xr-section-item'><input id='section-619bf047-b2dc-414f-83b7-c0dd1b6940dc' class='xr-section-summary-in' type='checkbox'  checked><label for='section-619bf047-b2dc-414f-83b7-c0dd1b6940dc' class='xr-section-summary' >Coordinates: <span>(1)</span></label><div class='xr-section-inline-details'></div><div class='xr-section-details'><ul class='xr-var-list'><li class='xr-var-item'><div class='xr-var-name'><span class='xr-has-index'>time</span></div><div class='xr-var-dims'>(time)</div><div class='xr-var-dtype'>datetime64[ns]</div><div class='xr-var-preview xr-preview'>1979-01-01T11:30:00 ... 2019-02-...</div><input id='attrs-bb9381fd-6a07-421a-ab77-ff4cea12060d' class='xr-var-attrs-in' type='checkbox' disabled><label for='attrs-bb9381fd-6a07-421a-ab77-ff4cea12060d' title='Show/Hide attributes'><svg class='icon xr-icon-file-text2'><use xlink:href='#icon-file-text2'></use></svg></label><input id='data-593a2017-a69a-46dd-80ca-793b7ece98e0' class='xr-var-data-in' type='checkbox'><label for='data-593a2017-a69a-46dd-80ca-793b7ece98e0' title='Show/Hide data repr'><svg class='icon xr-icon-database'><use xlink:href='#icon-database'></use></svg></label><div class='xr-var-attrs'><dl class='xr-attrs'></dl></div><div class='xr-var-data'><pre>array([&#x27;1979-01-01T11:30:00.000000000&#x27;, &#x27;1979-01-02T11:30:00.000000000&#x27;,\n",
       "       &#x27;1979-01-03T11:30:00.000000000&#x27;, ..., &#x27;2019-02-26T11:30:00.000000000&#x27;,\n",
       "       &#x27;2019-02-27T11:30:00.000000000&#x27;, &#x27;2019-02-28T11:30:00.000000000&#x27;],\n",
       "      dtype=&#x27;datetime64[ns]&#x27;)</pre></div></li></ul></div></li><li class='xr-section-item'><input id='section-a01f5563-00bb-4635-bd02-002bf9c7ad3c' class='xr-section-summary-in' type='checkbox'  ><label for='section-a01f5563-00bb-4635-bd02-002bf9c7ad3c' class='xr-section-summary' >Indexes: <span>(1)</span></label><div class='xr-section-inline-details'></div><div class='xr-section-details'><ul class='xr-var-list'><li class='xr-var-item'><div class='xr-index-name'><div>time</div></div><div class='xr-index-preview'>PandasIndex</div><input type='checkbox' disabled/><label></label><input id='index-60b674a6-7f8d-4f83-a06d-f56657dd37a2' class='xr-index-data-in' type='checkbox'/><label for='index-60b674a6-7f8d-4f83-a06d-f56657dd37a2' title='Show/Hide index repr'><svg class='icon xr-icon-database'><use xlink:href='#icon-database'></use></svg></label><div class='xr-index-data'><pre>PandasIndex(DatetimeIndex([&#x27;1979-01-01 11:30:00&#x27;, &#x27;1979-01-02 11:30:00&#x27;,\n",
       "               &#x27;1979-01-03 11:30:00&#x27;, &#x27;1979-01-04 11:30:00&#x27;,\n",
       "               &#x27;1979-01-05 11:30:00&#x27;, &#x27;1979-01-06 11:30:00&#x27;,\n",
       "               &#x27;1979-01-07 11:30:00&#x27;, &#x27;1979-01-08 11:30:00&#x27;,\n",
       "               &#x27;1979-01-09 11:30:00&#x27;, &#x27;1979-01-10 11:30:00&#x27;,\n",
       "               ...\n",
       "               &#x27;2019-02-19 11:30:00&#x27;, &#x27;2019-02-20 11:30:00&#x27;,\n",
       "               &#x27;2019-02-21 11:30:00&#x27;, &#x27;2019-02-22 11:30:00&#x27;,\n",
       "               &#x27;2019-02-23 11:30:00&#x27;, &#x27;2019-02-24 11:30:00&#x27;,\n",
       "               &#x27;2019-02-25 11:30:00&#x27;, &#x27;2019-02-26 11:30:00&#x27;,\n",
       "               &#x27;2019-02-27 11:30:00&#x27;, &#x27;2019-02-28 11:30:00&#x27;],\n",
       "              dtype=&#x27;datetime64[ns]&#x27;, name=&#x27;time&#x27;, length=3669, freq=None))</pre></div></li></ul></div></li><li class='xr-section-item'><input id='section-43d2e321-a823-4b2e-89a1-d8adf34bb2c7' class='xr-section-summary-in' type='checkbox' disabled ><label for='section-43d2e321-a823-4b2e-89a1-d8adf34bb2c7' class='xr-section-summary'  title='Expand/collapse section'>Attributes: <span>(0)</span></label><div class='xr-section-inline-details'></div><div class='xr-section-details'><dl class='xr-attrs'></dl></div></li></ul></div></div>"
      ],
      "text/plain": [
       "<xarray.DataArray 't2m' (time: 3669)> Size: 29kB\n",
       "array([12.75372129,  5.21066854,  4.73186809, ..., 18.61350525,\n",
       "       19.94468353, 20.93958231])\n",
       "Coordinates:\n",
       "  * time     (time) datetime64[ns] 29kB 1979-01-01T11:30:00 ... 2019-02-28T11..."
      ]
     },
     "execution_count": 60,
     "metadata": {},
     "output_type": "execute_result"
    }
   ],
   "source": [
    "norteE5 = t2m_weighted.mean(['longitude','latitude']) #promedio a variable ya pesada\n",
    "norteE5 "
   ]
  },
  {
   "cell_type": "code",
   "execution_count": 61,
   "id": "f1eb12d6-f3c4-4f70-9916-dd4220568d1c",
   "metadata": {},
   "outputs": [],
   "source": [
    "t2mclimyearsuav_alineado = t2mclimyearsuav.sel(latitude=slice(27,22),longitude=slice(255,262)).weighted(weights).mean(dim=['latitude','longitude'])\n",
    "t2msuavstd_alineado = t2msuavstd.sel(latitude=slice(27,22),longitude=slice(255,262)).weighted(weights).mean(dim=['latitude','longitude'])"
   ]
  },
  {
   "cell_type": "code",
   "execution_count": 62,
   "id": "b3163237-a69c-4e1c-85ec-5210a0906775",
   "metadata": {},
   "outputs": [
    {
     "data": {
      "text/html": [
       "<div><svg style=\"position: absolute; width: 0; height: 0; overflow: hidden\">\n",
       "<defs>\n",
       "<symbol id=\"icon-database\" viewBox=\"0 0 32 32\">\n",
       "<path d=\"M16 0c-8.837 0-16 2.239-16 5v4c0 2.761 7.163 5 16 5s16-2.239 16-5v-4c0-2.761-7.163-5-16-5z\"></path>\n",
       "<path d=\"M16 17c-8.837 0-16-2.239-16-5v6c0 2.761 7.163 5 16 5s16-2.239 16-5v-6c0 2.761-7.163 5-16 5z\"></path>\n",
       "<path d=\"M16 26c-8.837 0-16-2.239-16-5v6c0 2.761 7.163 5 16 5s16-2.239 16-5v-6c0 2.761-7.163 5-16 5z\"></path>\n",
       "</symbol>\n",
       "<symbol id=\"icon-file-text2\" viewBox=\"0 0 32 32\">\n",
       "<path d=\"M28.681 7.159c-0.694-0.947-1.662-2.053-2.724-3.116s-2.169-2.030-3.116-2.724c-1.612-1.182-2.393-1.319-2.841-1.319h-15.5c-1.378 0-2.5 1.121-2.5 2.5v27c0 1.378 1.122 2.5 2.5 2.5h23c1.378 0 2.5-1.122 2.5-2.5v-19.5c0-0.448-0.137-1.23-1.319-2.841zM24.543 5.457c0.959 0.959 1.712 1.825 2.268 2.543h-4.811v-4.811c0.718 0.556 1.584 1.309 2.543 2.268zM28 29.5c0 0.271-0.229 0.5-0.5 0.5h-23c-0.271 0-0.5-0.229-0.5-0.5v-27c0-0.271 0.229-0.5 0.5-0.5 0 0 15.499-0 15.5 0v7c0 0.552 0.448 1 1 1h7v19.5z\"></path>\n",
       "<path d=\"M23 26h-14c-0.552 0-1-0.448-1-1s0.448-1 1-1h14c0.552 0 1 0.448 1 1s-0.448 1-1 1z\"></path>\n",
       "<path d=\"M23 22h-14c-0.552 0-1-0.448-1-1s0.448-1 1-1h14c0.552 0 1 0.448 1 1s-0.448 1-1 1z\"></path>\n",
       "<path d=\"M23 18h-14c-0.552 0-1-0.448-1-1s0.448-1 1-1h14c0.552 0 1 0.448 1 1s-0.448 1-1 1z\"></path>\n",
       "</symbol>\n",
       "</defs>\n",
       "</svg>\n",
       "<style>/* CSS stylesheet for displaying xarray objects in jupyterlab.\n",
       " *\n",
       " */\n",
       "\n",
       ":root {\n",
       "  --xr-font-color0: var(--jp-content-font-color0, rgba(0, 0, 0, 1));\n",
       "  --xr-font-color2: var(--jp-content-font-color2, rgba(0, 0, 0, 0.54));\n",
       "  --xr-font-color3: var(--jp-content-font-color3, rgba(0, 0, 0, 0.38));\n",
       "  --xr-border-color: var(--jp-border-color2, #e0e0e0);\n",
       "  --xr-disabled-color: var(--jp-layout-color3, #bdbdbd);\n",
       "  --xr-background-color: var(--jp-layout-color0, white);\n",
       "  --xr-background-color-row-even: var(--jp-layout-color1, white);\n",
       "  --xr-background-color-row-odd: var(--jp-layout-color2, #eeeeee);\n",
       "}\n",
       "\n",
       "html[theme=\"dark\"],\n",
       "html[data-theme=\"dark\"],\n",
       "body[data-theme=\"dark\"],\n",
       "body.vscode-dark {\n",
       "  --xr-font-color0: rgba(255, 255, 255, 1);\n",
       "  --xr-font-color2: rgba(255, 255, 255, 0.54);\n",
       "  --xr-font-color3: rgba(255, 255, 255, 0.38);\n",
       "  --xr-border-color: #1f1f1f;\n",
       "  --xr-disabled-color: #515151;\n",
       "  --xr-background-color: #111111;\n",
       "  --xr-background-color-row-even: #111111;\n",
       "  --xr-background-color-row-odd: #313131;\n",
       "}\n",
       "\n",
       ".xr-wrap {\n",
       "  display: block !important;\n",
       "  min-width: 300px;\n",
       "  max-width: 700px;\n",
       "}\n",
       "\n",
       ".xr-text-repr-fallback {\n",
       "  /* fallback to plain text repr when CSS is not injected (untrusted notebook) */\n",
       "  display: none;\n",
       "}\n",
       "\n",
       ".xr-header {\n",
       "  padding-top: 6px;\n",
       "  padding-bottom: 6px;\n",
       "  margin-bottom: 4px;\n",
       "  border-bottom: solid 1px var(--xr-border-color);\n",
       "}\n",
       "\n",
       ".xr-header > div,\n",
       ".xr-header > ul {\n",
       "  display: inline;\n",
       "  margin-top: 0;\n",
       "  margin-bottom: 0;\n",
       "}\n",
       "\n",
       ".xr-obj-type,\n",
       ".xr-array-name {\n",
       "  margin-left: 2px;\n",
       "  margin-right: 10px;\n",
       "}\n",
       "\n",
       ".xr-obj-type {\n",
       "  color: var(--xr-font-color2);\n",
       "}\n",
       "\n",
       ".xr-sections {\n",
       "  padding-left: 0 !important;\n",
       "  display: grid;\n",
       "  grid-template-columns: 150px auto auto 1fr 0 20px 0 20px;\n",
       "}\n",
       "\n",
       ".xr-section-item {\n",
       "  display: contents;\n",
       "}\n",
       "\n",
       ".xr-section-item input {\n",
       "  display: inline-block;\n",
       "  opacity: 0;\n",
       "  height: 0;\n",
       "}\n",
       "\n",
       ".xr-section-item input + label {\n",
       "  color: var(--xr-disabled-color);\n",
       "}\n",
       "\n",
       ".xr-section-item input:enabled + label {\n",
       "  cursor: pointer;\n",
       "  color: var(--xr-font-color2);\n",
       "}\n",
       "\n",
       ".xr-section-item input:focus + label {\n",
       "  border: 2px solid var(--xr-font-color0);\n",
       "}\n",
       "\n",
       ".xr-section-item input:enabled + label:hover {\n",
       "  color: var(--xr-font-color0);\n",
       "}\n",
       "\n",
       ".xr-section-summary {\n",
       "  grid-column: 1;\n",
       "  color: var(--xr-font-color2);\n",
       "  font-weight: 500;\n",
       "}\n",
       "\n",
       ".xr-section-summary > span {\n",
       "  display: inline-block;\n",
       "  padding-left: 0.5em;\n",
       "}\n",
       "\n",
       ".xr-section-summary-in:disabled + label {\n",
       "  color: var(--xr-font-color2);\n",
       "}\n",
       "\n",
       ".xr-section-summary-in + label:before {\n",
       "  display: inline-block;\n",
       "  content: \"►\";\n",
       "  font-size: 11px;\n",
       "  width: 15px;\n",
       "  text-align: center;\n",
       "}\n",
       "\n",
       ".xr-section-summary-in:disabled + label:before {\n",
       "  color: var(--xr-disabled-color);\n",
       "}\n",
       "\n",
       ".xr-section-summary-in:checked + label:before {\n",
       "  content: \"▼\";\n",
       "}\n",
       "\n",
       ".xr-section-summary-in:checked + label > span {\n",
       "  display: none;\n",
       "}\n",
       "\n",
       ".xr-section-summary,\n",
       ".xr-section-inline-details {\n",
       "  padding-top: 4px;\n",
       "  padding-bottom: 4px;\n",
       "}\n",
       "\n",
       ".xr-section-inline-details {\n",
       "  grid-column: 2 / -1;\n",
       "}\n",
       "\n",
       ".xr-section-details {\n",
       "  display: none;\n",
       "  grid-column: 1 / -1;\n",
       "  margin-bottom: 5px;\n",
       "}\n",
       "\n",
       ".xr-section-summary-in:checked ~ .xr-section-details {\n",
       "  display: contents;\n",
       "}\n",
       "\n",
       ".xr-array-wrap {\n",
       "  grid-column: 1 / -1;\n",
       "  display: grid;\n",
       "  grid-template-columns: 20px auto;\n",
       "}\n",
       "\n",
       ".xr-array-wrap > label {\n",
       "  grid-column: 1;\n",
       "  vertical-align: top;\n",
       "}\n",
       "\n",
       ".xr-preview {\n",
       "  color: var(--xr-font-color3);\n",
       "}\n",
       "\n",
       ".xr-array-preview,\n",
       ".xr-array-data {\n",
       "  padding: 0 5px !important;\n",
       "  grid-column: 2;\n",
       "}\n",
       "\n",
       ".xr-array-data,\n",
       ".xr-array-in:checked ~ .xr-array-preview {\n",
       "  display: none;\n",
       "}\n",
       "\n",
       ".xr-array-in:checked ~ .xr-array-data,\n",
       ".xr-array-preview {\n",
       "  display: inline-block;\n",
       "}\n",
       "\n",
       ".xr-dim-list {\n",
       "  display: inline-block !important;\n",
       "  list-style: none;\n",
       "  padding: 0 !important;\n",
       "  margin: 0;\n",
       "}\n",
       "\n",
       ".xr-dim-list li {\n",
       "  display: inline-block;\n",
       "  padding: 0;\n",
       "  margin: 0;\n",
       "}\n",
       "\n",
       ".xr-dim-list:before {\n",
       "  content: \"(\";\n",
       "}\n",
       "\n",
       ".xr-dim-list:after {\n",
       "  content: \")\";\n",
       "}\n",
       "\n",
       ".xr-dim-list li:not(:last-child):after {\n",
       "  content: \",\";\n",
       "  padding-right: 5px;\n",
       "}\n",
       "\n",
       ".xr-has-index {\n",
       "  font-weight: bold;\n",
       "}\n",
       "\n",
       ".xr-var-list,\n",
       ".xr-var-item {\n",
       "  display: contents;\n",
       "}\n",
       "\n",
       ".xr-var-item > div,\n",
       ".xr-var-item label,\n",
       ".xr-var-item > .xr-var-name span {\n",
       "  background-color: var(--xr-background-color-row-even);\n",
       "  margin-bottom: 0;\n",
       "}\n",
       "\n",
       ".xr-var-item > .xr-var-name:hover span {\n",
       "  padding-right: 5px;\n",
       "}\n",
       "\n",
       ".xr-var-list > li:nth-child(odd) > div,\n",
       ".xr-var-list > li:nth-child(odd) > label,\n",
       ".xr-var-list > li:nth-child(odd) > .xr-var-name span {\n",
       "  background-color: var(--xr-background-color-row-odd);\n",
       "}\n",
       "\n",
       ".xr-var-name {\n",
       "  grid-column: 1;\n",
       "}\n",
       "\n",
       ".xr-var-dims {\n",
       "  grid-column: 2;\n",
       "}\n",
       "\n",
       ".xr-var-dtype {\n",
       "  grid-column: 3;\n",
       "  text-align: right;\n",
       "  color: var(--xr-font-color2);\n",
       "}\n",
       "\n",
       ".xr-var-preview {\n",
       "  grid-column: 4;\n",
       "}\n",
       "\n",
       ".xr-index-preview {\n",
       "  grid-column: 2 / 5;\n",
       "  color: var(--xr-font-color2);\n",
       "}\n",
       "\n",
       ".xr-var-name,\n",
       ".xr-var-dims,\n",
       ".xr-var-dtype,\n",
       ".xr-preview,\n",
       ".xr-attrs dt {\n",
       "  white-space: nowrap;\n",
       "  overflow: hidden;\n",
       "  text-overflow: ellipsis;\n",
       "  padding-right: 10px;\n",
       "}\n",
       "\n",
       ".xr-var-name:hover,\n",
       ".xr-var-dims:hover,\n",
       ".xr-var-dtype:hover,\n",
       ".xr-attrs dt:hover {\n",
       "  overflow: visible;\n",
       "  width: auto;\n",
       "  z-index: 1;\n",
       "}\n",
       "\n",
       ".xr-var-attrs,\n",
       ".xr-var-data,\n",
       ".xr-index-data {\n",
       "  display: none;\n",
       "  background-color: var(--xr-background-color) !important;\n",
       "  padding-bottom: 5px !important;\n",
       "}\n",
       "\n",
       ".xr-var-attrs-in:checked ~ .xr-var-attrs,\n",
       ".xr-var-data-in:checked ~ .xr-var-data,\n",
       ".xr-index-data-in:checked ~ .xr-index-data {\n",
       "  display: block;\n",
       "}\n",
       "\n",
       ".xr-var-data > table {\n",
       "  float: right;\n",
       "}\n",
       "\n",
       ".xr-var-name span,\n",
       ".xr-var-data,\n",
       ".xr-index-name div,\n",
       ".xr-index-data,\n",
       ".xr-attrs {\n",
       "  padding-left: 25px !important;\n",
       "}\n",
       "\n",
       ".xr-attrs,\n",
       ".xr-var-attrs,\n",
       ".xr-var-data,\n",
       ".xr-index-data {\n",
       "  grid-column: 1 / -1;\n",
       "}\n",
       "\n",
       "dl.xr-attrs {\n",
       "  padding: 0;\n",
       "  margin: 0;\n",
       "  display: grid;\n",
       "  grid-template-columns: 125px auto;\n",
       "}\n",
       "\n",
       ".xr-attrs dt,\n",
       ".xr-attrs dd {\n",
       "  padding: 0;\n",
       "  margin: 0;\n",
       "  float: left;\n",
       "  padding-right: 10px;\n",
       "  width: auto;\n",
       "}\n",
       "\n",
       ".xr-attrs dt {\n",
       "  font-weight: normal;\n",
       "  grid-column: 1;\n",
       "}\n",
       "\n",
       ".xr-attrs dt:hover span {\n",
       "  display: inline-block;\n",
       "  background: var(--xr-background-color);\n",
       "  padding-right: 10px;\n",
       "}\n",
       "\n",
       ".xr-attrs dd {\n",
       "  grid-column: 2;\n",
       "  white-space: pre-wrap;\n",
       "  word-break: break-all;\n",
       "}\n",
       "\n",
       ".xr-icon-database,\n",
       ".xr-icon-file-text2,\n",
       ".xr-no-icon {\n",
       "  display: inline-block;\n",
       "  vertical-align: middle;\n",
       "  width: 1em;\n",
       "  height: 1.5em !important;\n",
       "  stroke-width: 0;\n",
       "  stroke: currentColor;\n",
       "  fill: currentColor;\n",
       "}\n",
       "</style><pre class='xr-text-repr-fallback'>&lt;xarray.DataArray &#x27;t2m&#x27; (year: 41)&gt; Size: 328B\n",
       "array([        nan,         nan,         nan,         nan,         nan,\n",
       "       13.69836187, 13.7876156 , 13.85533131, 13.90337056, 13.85481764,\n",
       "       13.89510588, 13.97434218, 14.03548727, 14.10201018, 14.0902704 ,\n",
       "       14.1376457 , 14.12596634, 14.21514967, 14.25258427, 14.30523531,\n",
       "       14.38840719, 14.44656011, 14.3572143 , 14.36070174, 14.44970679,\n",
       "       14.42787697, 14.38164857, 14.32865243, 14.31772867, 14.44005316,\n",
       "       14.42442234, 14.46701737, 14.43375692, 14.42526667, 14.45457284,\n",
       "       14.49249821, 14.56226689,         nan,         nan,         nan,\n",
       "               nan])\n",
       "Coordinates:\n",
       "  * year     (year) int64 328B 1979 1980 1981 1982 1983 ... 2016 2017 2018 2019</pre><div class='xr-wrap' style='display:none'><div class='xr-header'><div class='xr-obj-type'>xarray.DataArray</div><div class='xr-array-name'>'t2m'</div><ul class='xr-dim-list'><li><span class='xr-has-index'>year</span>: 41</li></ul></div><ul class='xr-sections'><li class='xr-section-item'><div class='xr-array-wrap'><input id='section-bda229dc-ac0f-49b1-9d18-e21cd4a66cb8' class='xr-array-in' type='checkbox' checked><label for='section-bda229dc-ac0f-49b1-9d18-e21cd4a66cb8' title='Show/hide data repr'><svg class='icon xr-icon-database'><use xlink:href='#icon-database'></use></svg></label><div class='xr-array-preview xr-preview'><span>nan nan nan nan nan 13.7 13.79 ... 14.45 14.49 14.56 nan nan nan nan</span></div><div class='xr-array-data'><pre>array([        nan,         nan,         nan,         nan,         nan,\n",
       "       13.69836187, 13.7876156 , 13.85533131, 13.90337056, 13.85481764,\n",
       "       13.89510588, 13.97434218, 14.03548727, 14.10201018, 14.0902704 ,\n",
       "       14.1376457 , 14.12596634, 14.21514967, 14.25258427, 14.30523531,\n",
       "       14.38840719, 14.44656011, 14.3572143 , 14.36070174, 14.44970679,\n",
       "       14.42787697, 14.38164857, 14.32865243, 14.31772867, 14.44005316,\n",
       "       14.42442234, 14.46701737, 14.43375692, 14.42526667, 14.45457284,\n",
       "       14.49249821, 14.56226689,         nan,         nan,         nan,\n",
       "               nan])</pre></div></div></li><li class='xr-section-item'><input id='section-d386e138-d980-430c-9272-ee128cc9d20d' class='xr-section-summary-in' type='checkbox'  checked><label for='section-d386e138-d980-430c-9272-ee128cc9d20d' class='xr-section-summary' >Coordinates: <span>(1)</span></label><div class='xr-section-inline-details'></div><div class='xr-section-details'><ul class='xr-var-list'><li class='xr-var-item'><div class='xr-var-name'><span class='xr-has-index'>year</span></div><div class='xr-var-dims'>(year)</div><div class='xr-var-dtype'>int64</div><div class='xr-var-preview xr-preview'>1979 1980 1981 ... 2017 2018 2019</div><input id='attrs-4336a589-fdad-4738-9562-5ec87833660b' class='xr-var-attrs-in' type='checkbox' disabled><label for='attrs-4336a589-fdad-4738-9562-5ec87833660b' title='Show/Hide attributes'><svg class='icon xr-icon-file-text2'><use xlink:href='#icon-file-text2'></use></svg></label><input id='data-e27c0cc2-0d73-4bda-b597-382de1631bae' class='xr-var-data-in' type='checkbox'><label for='data-e27c0cc2-0d73-4bda-b597-382de1631bae' title='Show/Hide data repr'><svg class='icon xr-icon-database'><use xlink:href='#icon-database'></use></svg></label><div class='xr-var-attrs'><dl class='xr-attrs'></dl></div><div class='xr-var-data'><pre>array([1979, 1980, 1981, 1982, 1983, 1984, 1985, 1986, 1987, 1988, 1989, 1990,\n",
       "       1991, 1992, 1993, 1994, 1995, 1996, 1997, 1998, 1999, 2000, 2001, 2002,\n",
       "       2003, 2004, 2005, 2006, 2007, 2008, 2009, 2010, 2011, 2012, 2013, 2014,\n",
       "       2015, 2016, 2017, 2018, 2019])</pre></div></li></ul></div></li><li class='xr-section-item'><input id='section-b0eecbd9-d67c-4baa-8f37-49c11517d64c' class='xr-section-summary-in' type='checkbox'  ><label for='section-b0eecbd9-d67c-4baa-8f37-49c11517d64c' class='xr-section-summary' >Indexes: <span>(1)</span></label><div class='xr-section-inline-details'></div><div class='xr-section-details'><ul class='xr-var-list'><li class='xr-var-item'><div class='xr-index-name'><div>year</div></div><div class='xr-index-preview'>PandasIndex</div><input type='checkbox' disabled/><label></label><input id='index-29f606d0-3f0a-49d9-99f3-f0cfdee9b5a6' class='xr-index-data-in' type='checkbox'/><label for='index-29f606d0-3f0a-49d9-99f3-f0cfdee9b5a6' title='Show/Hide index repr'><svg class='icon xr-icon-database'><use xlink:href='#icon-database'></use></svg></label><div class='xr-index-data'><pre>PandasIndex(Index([1979, 1980, 1981, 1982, 1983, 1984, 1985, 1986, 1987, 1988, 1989, 1990,\n",
       "       1991, 1992, 1993, 1994, 1995, 1996, 1997, 1998, 1999, 2000, 2001, 2002,\n",
       "       2003, 2004, 2005, 2006, 2007, 2008, 2009, 2010, 2011, 2012, 2013, 2014,\n",
       "       2015, 2016, 2017, 2018, 2019],\n",
       "      dtype=&#x27;int64&#x27;, name=&#x27;year&#x27;))</pre></div></li></ul></div></li><li class='xr-section-item'><input id='section-2fd8b325-6eb6-4bd6-94f1-bf1ab993260d' class='xr-section-summary-in' type='checkbox' disabled ><label for='section-2fd8b325-6eb6-4bd6-94f1-bf1ab993260d' class='xr-section-summary'  title='Expand/collapse section'>Attributes: <span>(0)</span></label><div class='xr-section-inline-details'></div><div class='xr-section-details'><dl class='xr-attrs'></dl></div></li></ul></div></div>"
      ],
      "text/plain": [
       "<xarray.DataArray 't2m' (year: 41)> Size: 328B\n",
       "array([        nan,         nan,         nan,         nan,         nan,\n",
       "       13.69836187, 13.7876156 , 13.85533131, 13.90337056, 13.85481764,\n",
       "       13.89510588, 13.97434218, 14.03548727, 14.10201018, 14.0902704 ,\n",
       "       14.1376457 , 14.12596634, 14.21514967, 14.25258427, 14.30523531,\n",
       "       14.38840719, 14.44656011, 14.3572143 , 14.36070174, 14.44970679,\n",
       "       14.42787697, 14.38164857, 14.32865243, 14.31772867, 14.44005316,\n",
       "       14.42442234, 14.46701737, 14.43375692, 14.42526667, 14.45457284,\n",
       "       14.49249821, 14.56226689,         nan,         nan,         nan,\n",
       "               nan])\n",
       "Coordinates:\n",
       "  * year     (year) int64 328B 1979 1980 1981 1982 1983 ... 2016 2017 2018 2019"
      ]
     },
     "execution_count": 62,
     "metadata": {},
     "output_type": "execute_result"
    }
   ],
   "source": [
    "t2mclimyearsuav_alineado"
   ]
  },
  {
   "cell_type": "code",
   "execution_count": 63,
   "id": "9f3aa09f-5c04-44d4-bd29-8d3a9c461015",
   "metadata": {},
   "outputs": [
    {
     "name": "stdout",
     "output_type": "stream",
     "text": [
      "0\n",
      "1984 2015\n"
     ]
    }
   ],
   "source": [
    "CAOsE5 = CAOS_MXgpE5(norteE5,t2mclimyearsuav_alineado,t2msuavstd_alineado) \n",
    "fechas_caoE5= CAOsE5['fechas']"
   ]
  },
  {
   "cell_type": "code",
   "execution_count": 64,
   "id": "dbc99147-3b21-4925-bb4f-3498f285dc65",
   "metadata": {},
   "outputs": [
    {
     "data": {
      "text/plain": [
       "41"
      ]
     },
     "execution_count": 64,
     "metadata": {},
     "output_type": "execute_result"
    }
   ],
   "source": [
    "len(fechas_caoE5)"
   ]
  },
  {
   "cell_type": "code",
   "execution_count": 65,
   "id": "5eed9b5e-8ff1-463c-a7e5-e4ac8f5691bd",
   "metadata": {},
   "outputs": [],
   "source": [
    "E5_listindex=[fechas_caoE5[key] for key in CAOsE5['fechas'].keys()]"
   ]
  },
  {
   "cell_type": "code",
   "execution_count": 66,
   "id": "8bb8ae36-6e3a-4dfc-bcd7-009202b45036",
   "metadata": {},
   "outputs": [],
   "source": [
    "tempsE5 = t2m_inviernos.isel(time=E5_listindex)"
   ]
  },
  {
   "cell_type": "markdown",
   "id": "c0b8ac77-a0ac-4afb-988c-95c64fc6e163",
   "metadata": {},
   "source": [
    "###### <h1  style=\"color:rebeccapurple; font-size:17px;\"><i> Estadística </i> </h1>\n",
    "#####   - `Anual` y `en una región`\n",
    "\n"
   ]
  },
  {
   "cell_type": "code",
   "execution_count": 67,
   "id": "6958128e-a036-499c-82cf-016a6c90f0b9",
   "metadata": {},
   "outputs": [],
   "source": [
    "# este es para HadGEM\n",
    "def recortes1a1 (ua1,latA,latB,lonA,lonB,año):\n",
    "    \"\"\"\n",
    "    Esta función nos recortará los datos (años,latitudes, longitudes) para usarlos en otras funciones \n",
    "    ua1,va1: viento (zonal,meridional) de la simulación 1 \n",
    "    ua2,va2:  viento (zonal,meridional) de la simulación 2\n",
    "    latA,latB: recorte de latitudes de menor (A) a mayor (B)\n",
    "    lonA,lonB: recorte de longitudes de menor (A) a mayor (B)\n",
    "    \"\"\"\n",
    "    ua1[\"plev\"]=ua1[\"plev\"]/100\n",
    "\n",
    "    ua1['units']='hPa'\n",
    "    \n",
    "    ua1 = ua1.sel(lat=slice(latA, latB), lon=slice(360-lonB, 360-lonA)).where(ua1.time.dt.year > año, drop=True)\n",
    "\n",
    "    #Recorte para la temporada invernal en el HN\n",
    "    \n",
    "    ua1=ua1.where((ua1.time.dt.month==12)| (ua1.time.dt.month==1)| (ua1.time.dt.month==2),drop=True)\n",
    "   \n",
    "    return {'ua1': ua1}"
   ]
  },
  {
   "cell_type": "code",
   "execution_count": 68,
   "id": "f1eea7a9-d9f0-45b3-91c0-c380e72da0bb",
   "metadata": {},
   "outputs": [],
   "source": [
    "#este es para HadGEM\n",
    "def js_pos_intens (ua1):\n",
    "    \"\"\"\n",
    "    Esta función encuentra la posición promedio y la intensidad, usando el método de Woollings et al. 2010\n",
    "    ua1: Viento zonal de la simulación 1 (ua1)\n",
    "    ua2: Viento zonal de la simulación 2 (ua2)\n",
    "    nivel: a qué nivel de presión se hará el cálculo, en Pa\n",
    "    \n",
    "    \"\"\"\n",
    "\n",
    "    #nivel = ua1.plev\n",
    "    #Convertir el tiempo a gregoriano \n",
    "    ua1 = ua1.convert_calendar(calendar='gregorian', align_on='year')\n",
    "    \n",
    "    #Usamos jsmetrics statistics\n",
    "    sim1 = jsmetrics.jet_statistics.woollings_et_al_2010(ua1,filter_freq=4,window_size=20)\n",
    "    \n",
    "    #POSICIÓN\n",
    "    sim1_p=sim1[\"jet_lat\"].groupby(sim1[\"jet_lat\"].time.dt.year).mean() \n",
    "    \n",
    "    #VELOCIDAD\n",
    "    sim1_v=sim1[\"jet_speed\"].groupby(sim1[\"jet_speed\"].time.dt.year).mean()  \n",
    "    \n",
    "    return {'Posición del jet en simulación 1':sim1_p,\n",
    "            'Velocidad del jet en simulación 1':sim1_v\n",
    "            }"
   ]
  },
  {
   "cell_type": "code",
   "execution_count": 69,
   "id": "09ad41f4-b125-49fa-92a5-d43c38bc21f7",
   "metadata": {
    "scrolled": true
   },
   "outputs": [],
   "source": [
    "#recortes1a1 tiene argumentos(ua1,latA,latB,lonA,lonB,año1)\n",
    "recorteR = recortes1a1(uHG,10,40,67,129,1978)"
   ]
  },
  {
   "cell_type": "code",
   "execution_count": 70,
   "id": "8934f608-8647-48b1-a20a-47394a975dae",
   "metadata": {
    "scrolled": true
   },
   "outputs": [
    {
     "name": "stdout",
     "output_type": "stream",
     "text": [
      "Warning: The 'apply_lanczos_filter' function was built to work on a datetime index of freq 'D'. Frequency in data is 'None'\n"
     ]
    },
    {
     "data": {
      "text/plain": [
       "{'Posición del jet en simulación 1': <xarray.DataArray 'jet_lat' (year: 36)> Size: 288B\n",
       " array([33.671875  , 30.70833333, 33.30555556, 32.33333333, 33.02777778,\n",
       "        32.73611111, 30.68055556, 31.13888889, 33.40277778, 32.5       ,\n",
       "        33.45833333, 32.51388889, 31.38888889, 29.61111111, 30.55555556,\n",
       "        33.59722222, 31.80555556, 29.59722222, 31.98611111, 31.68055556,\n",
       "        31.84722222, 32.65277778, 33.56944444, 31.27777778, 33.11111111,\n",
       "        29.5       , 34.31944444, 31.72222222, 30.83333333, 35.59722222,\n",
       "        32.91666667, 31.875     , 28.5       , 33.75      , 34.77777778,\n",
       "        31.515625  ])\n",
       " Coordinates:\n",
       "     plev     float64 8B 250.0\n",
       "     units    <U3 12B 'hPa'\n",
       "   * year     (year) int64 288B 1979 1980 1981 1982 1983 ... 2011 2012 2013 2014,\n",
       " 'Velocidad del jet en simulación 1': <xarray.DataArray 'jet_speed' (year: 36)> Size: 288B\n",
       " array([43.00248152, 45.5051937 , 48.0577625 , 47.21879916, 41.99009748,\n",
       "        49.00541644, 43.0318697 , 44.95540083, 43.79065333, 42.9600822 ,\n",
       "        42.93648101, 43.5210687 , 45.96148878, 43.81785528, 46.05113246,\n",
       "        40.50296457, 45.35662074, 45.0241784 , 43.27853768, 42.88037549,\n",
       "        44.93753236, 48.08891202, 40.26583927, 45.49730996, 44.96243442,\n",
       "        40.36036588, 40.75149307, 46.93275612, 48.46106246, 44.56910106,\n",
       "        43.24759661, 43.05099693, 46.70165865, 40.30786821, 41.0364493 ,\n",
       "        47.09841916])\n",
       " Coordinates:\n",
       "     plev     float64 8B 250.0\n",
       "     units    <U3 12B 'hPa'\n",
       "   * year     (year) int64 288B 1979 1980 1981 1982 1983 ... 2011 2012 2013 2014}"
      ]
     },
     "execution_count": 70,
     "metadata": {},
     "output_type": "execute_result"
    }
   ],
   "source": [
    "#js_pos_intens tiene argumentos (ua1)\n",
    "POS_VEL = js_pos_intens(recorteR['ua1'])\n",
    "POS_VEL"
   ]
  },
  {
   "cell_type": "code",
   "execution_count": 71,
   "id": "9e63dac0-f800-4352-9306-be59f97fceea",
   "metadata": {},
   "outputs": [],
   "source": [
    "def CAO_añosHG(resHG_fxCAO,año1,año2):\n",
    "    resHG_fxCAO = CAOS_MXgp(norte,tasclimyearsuav_alineado,tassuavstd_alineado)     \n",
    "    fechas_CAO = list(resHG_fxCAO['fechas'].keys())  # Extraer las fechas de los eventos CAO \n",
    "    fechas_df = pd.to_datetime(fechas_CAO)    # Convertir las fechas en un formato adecuado  \n",
    "    años = fechas_df.year  # Extraer los años de las fechas  \n",
    "    conteo_años = Counter(años)  # Contar cuántas veces se repite cada año\n",
    "    rango_años = range(año1, año2) # Crear un rango de años de 1979 a 2014    \n",
    "    conteo_completo = {año: conteo_años.get(año, 0) for año in rango_años} # Asegurarnos de que todos los años del rango tengan un valor, aunque sea 0  \n",
    "    años_unicos = list(conteo_completo.keys()) # Preparar los datos para graficar\n",
    "    CAOsxaño = list(conteo_completo.values())\n",
    "    return {'años':años_unicos,'CAOs por año':CAOsxaño}"
   ]
  },
  {
   "cell_type": "code",
   "execution_count": 72,
   "id": "cca58f6b-016d-4b27-a35b-82b51599fb61",
   "metadata": {},
   "outputs": [
    {
     "name": "stdout",
     "output_type": "stream",
     "text": [
      "0\n",
      "1984 2010\n",
      "48\n",
      "0\n",
      "1984 2010\n",
      "48\n"
     ]
    }
   ],
   "source": [
    "CAOsxaño = CAO_añosHG(CAOS_MXgp(norte,tasclimyearsuav_alineado,tassuavstd_alineado),1979,2015)"
   ]
  },
  {
   "cell_type": "code",
   "execution_count": 73,
   "id": "5bfc49c7-cbf9-4b9b-8450-c2f95c374293",
   "metadata": {},
   "outputs": [],
   "source": [
    "def varianza1a1(sim1_p, sim1_v):\n",
    "    # Calcular varianza y media para la posición y velocidad\n",
    "    var_1p = sim1_p.var().round(2)\n",
    "    mean_1p = sim1_p.round(2)\n",
    "    var_1v = sim1_v.var().round(2)\n",
    "    mean_1v = sim1_v.round(2)\n",
    "    \n",
    "    return {'var_POS':var_1p, 'mean_POS':mean_1p, 'var_VEL': var_1v, 'mean_VEL':mean_1v }"
   ]
  },
  {
   "cell_type": "code",
   "execution_count": 74,
   "id": "5be303c4-2195-4120-be41-07617eb6fe6c",
   "metadata": {},
   "outputs": [],
   "source": [
    "POSyVEL = varianza1a1(POS_VEL['Posición del jet en simulación 1'],\n",
    "               POS_VEL['Velocidad del jet en simulación 1'],)"
   ]
  },
  {
   "cell_type": "code",
   "execution_count": 75,
   "id": "bf6f9895-a364-4e31-a0bd-48664bac654a",
   "metadata": {},
   "outputs": [],
   "source": [
    "# Datos para graficar varianza y medias de HadGEM\n",
    "mean_POS = POSyVEL['mean_POS']\n",
    "mean_VEL = POSyVEL['mean_VEL']\n",
    "var_POS = POSyVEL['var_POS'], \n",
    "var_VEL = POSyVEL['var_VEL']"
   ]
  },
  {
   "cell_type": "code",
   "execution_count": 76,
   "id": "ee2e2d49-5594-4409-872d-763dda0e3f66",
   "metadata": {},
   "outputs": [],
   "source": [
    "# Datos para graficar CAOs por año\n",
    "años =  CAOsxaño['años']\n",
    "cantidad_eventos = CAOsxaño['CAOs por año']"
   ]
  },
  {
   "cell_type": "code",
   "execution_count": 77,
   "id": "2fe8b7ff-7826-4617-9ec1-95557a8267f0",
   "metadata": {},
   "outputs": [],
   "source": [
    "def E5js_pos_intens(ua1): \n",
    "    \"\"\"\n",
    "    Esta función encuentra la posición promedio y la intensidad, usando el método de Woollings et al. 2010.\n",
    "    \n",
    "    Parameters:\n",
    "    ua1: Viento zonal de la simulación 1 (DataArray o Dataset).\n",
    "    nivel: a qué nivel de presión se hará el cálculo, en Pa.\n",
    "    \n",
    "    Returns:\n",
    "    dict: Un diccionario con la posición y velocidad del jet en la simulación.\n",
    "    \"\"\"\n",
    "    \n",
    "    # Convertir el tiempo a gregoriano\n",
    "    ua1 = ua1.convert_calendar(calendar='gregorian', align_on='year')\n",
    "    \n",
    "    # Usar jsmetrics para obtener estadísticas del jet\n",
    "    sim1 = jsmetrics.jet_statistics.woollings_et_al_2010(ua1, filter_freq=4, window_size=20)\n",
    "    \n",
    "    # Calcular la posición promedio del jet\n",
    "    sim1_p = sim1[\"jet_lat\"].groupby(sim1[\"jet_lat\"].time.dt.year).mean()\n",
    "    \n",
    "    # Calcular la velocidad promedio del jet\n",
    "    sim1_v = sim1[\"jet_speed\"].groupby(sim1[\"jet_speed\"].time.dt.year).mean()\n",
    "    \n",
    "    # Retornar resultados en un diccionario\n",
    "    return {\n",
    "        'Posición del jet en simulación 1': sim1_p,\n",
    "         'Velocidad del jet en simulación 1': sim1_v\n",
    "            }\n"
   ]
  },
  {
   "cell_type": "code",
   "execution_count": 78,
   "id": "250f7d25-b5d4-4130-a05d-f501687cf8fb",
   "metadata": {},
   "outputs": [],
   "source": [
    "u_sliced = u200E5.sel(latitude=slice(40,10)) \n",
    "u_sliced = u_sliced.sel(longitude=slice(231,293)) "
   ]
  },
  {
   "cell_type": "code",
   "execution_count": 79,
   "id": "cd9e5154-8818-4ecf-b612-3aaba7b28dac",
   "metadata": {},
   "outputs": [],
   "source": [
    "u_sliced = u_sliced.rename({'latitude': 'lat', 'longitude': 'lon','level':'plev'})"
   ]
  },
  {
   "cell_type": "code",
   "execution_count": 80,
   "id": "94959673-989e-4018-b88c-9e6d9b67fa43",
   "metadata": {},
   "outputs": [],
   "source": [
    "u_sliced = u_sliced.rename('ua')"
   ]
  },
  {
   "cell_type": "code",
   "execution_count": 81,
   "id": "0448d97c-c7ad-43d4-ad2c-481abc84976a",
   "metadata": {
    "scrolled": true
   },
   "outputs": [
    {
     "data": {
      "text/plain": [
       "{'Posición del jet en simulación 1': <xarray.DataArray 'jet_lat' (year: 41)> Size: 328B\n",
       " array([33.18380282, 33.74590164, 33.2609589 , 34.77739726, 31.33150685,\n",
       "        33.36680328, 34.07465753, 33.24041096, 30.76849315, 31.06762295,\n",
       "        34.86164384, 34.9130137 , 33.29383562, 32.67418033, 33.02876712,\n",
       "        33.73972603, 34.12191781, 35.38114754, 33.46849315, 33.51986301,\n",
       "        33.08835616, 34.2704918 , 32.09794521, 33.84246575, 33.63082192,\n",
       "        32.60040984, 32.99589041, 33.04315068, 33.13356164, 33.83606557,\n",
       "        33.68424658, 32.8890411 , 34.26575342, 31.5       , 33.02054795,\n",
       "        34.63356164, 34.1239726 , 33.17418033, 34.67671233, 35.58082192,\n",
       "        31.20744681])\n",
       " Coordinates:\n",
       "     plev     float64 8B 200.0\n",
       "   * year     (year) int64 328B 1979 1980 1981 1982 1983 ... 2016 2017 2018 2019,\n",
       " 'Velocidad del jet en simulación 1': <xarray.DataArray 'jet_speed' (year: 41)> Size: 328B\n",
       " array([31.04633674, 32.59028921, 31.16417089, 31.35065614, 34.00985613,\n",
       "        30.20433447, 29.85637994, 30.72937394, 33.11912086, 30.43054595,\n",
       "        30.05215687, 29.25004358, 30.05833947, 33.23015438, 34.24007493,\n",
       "        31.14500563, 32.20668156, 31.37204406, 32.32850781, 35.9519155 ,\n",
       "        27.9101037 , 29.57269089, 28.87104377, 31.22901962, 31.13277256,\n",
       "        31.1950238 , 31.76555683, 29.70230301, 29.71777326, 29.77889288,\n",
       "        32.60170991, 34.49017775, 30.00779373, 28.92853216, 30.70209921,\n",
       "        31.33713967, 30.12004157, 32.41386357, 31.51436612, 29.77083611,\n",
       "        40.47467404])\n",
       " Coordinates:\n",
       "     plev     float64 8B 200.0\n",
       "   * year     (year) int64 328B 1979 1980 1981 1982 1983 ... 2016 2017 2018 2019}"
      ]
     },
     "execution_count": 81,
     "metadata": {},
     "output_type": "execute_result"
    }
   ],
   "source": [
    "E5POS_VEL = E5js_pos_intens(u_sliced)\n",
    "E5POS_VEL"
   ]
  },
  {
   "cell_type": "code",
   "execution_count": 82,
   "id": "74010433-4159-4e5d-a4c1-3e1a2476c958",
   "metadata": {},
   "outputs": [],
   "source": [
    "def CAO_añosE5(resE5_fxCAO,año1,año2):\n",
    "    resE5_fxCAO = CAOS_MXgpE5(norteE5,t2mclimyearsuav_alineado,t2msuavstd_alineado)      \n",
    "    fechas_CAOE5 = list(resE5_fxCAO['fechas'].keys())  # Extraer las fechas de los eventos CAO \n",
    "    fechas_dfE5 = pd.to_datetime(fechas_CAOE5)    # Convertir las fechas en un formato adecuado  \n",
    "    añosE5 = fechas_dfE5.year  # Extraer los años de las fechas  \n",
    "    conteo_añosE5 = Counter(añosE5)  # Contar cuántas veces se repite cada año\n",
    "    rango_añosE5 = range(año1, año2) # Crear un rango de años de 1979 a 2019    \n",
    "    conteo_completoE5 = {año: conteo_añosE5.get(año, 0) for año in rango_añosE5} # Asegurarnos de que todos los años del rango tengan un valor, aunque sea 0  \n",
    "    años_unicosE5 = list(conteo_completoE5.keys()) \n",
    "    CAOsxañoE5 = list(conteo_completoE5.values())\n",
    "    return {'añosE5':años_unicosE5,'CAOs por año_E5':CAOsxañoE5}"
   ]
  },
  {
   "cell_type": "code",
   "execution_count": 83,
   "id": "b0ba973b-2aae-4b13-981e-ae1cd051d310",
   "metadata": {},
   "outputs": [],
   "source": [
    "def E5varianza (sim1_p,sim1_v): #sim2_p, sim2_v\n",
    "            #Varianza de posición\n",
    "    #simulación 1\n",
    "    var_POS=sim1_p.var().round(2)\n",
    "    mean_POS=sim1_p.round(2)\n",
    "\n",
    "            #Varianza de velocidad\n",
    "    #simulación 1\n",
    "    var_VEL=sim1_v.var().round(2)\n",
    "    mean_VEL=sim1_v.round(2)\n",
    "   \n",
    "    return  {'E5mean_POS': mean_POS, 'E5var_POS': var_POS,'E5mean_VEL':mean_VEL,'E5var_VEL':var_VEL}"
   ]
  },
  {
   "cell_type": "code",
   "execution_count": 84,
   "id": "e32f1028-27b8-4ef0-b624-e1d2296509ea",
   "metadata": {},
   "outputs": [],
   "source": [
    "E5POSyVEL = E5varianza(E5POS_VEL['Posición del jet en simulación 1'],\n",
    "               E5POS_VEL['Velocidad del jet en simulación 1'])"
   ]
  },
  {
   "cell_type": "code",
   "execution_count": 85,
   "id": "1839419d-70e4-4b17-86e7-7dae06b3c890",
   "metadata": {},
   "outputs": [],
   "source": [
    "E5mean_VEL = E5POSyVEL['E5mean_VEL']\n",
    "E5var_VEL = E5POSyVEL['E5var_VEL']\n",
    "E5mean_POS = E5POSyVEL['E5mean_POS']\n",
    "E5var_POS = E5POSyVEL['E5var_POS']"
   ]
  },
  {
   "cell_type": "code",
   "execution_count": 86,
   "id": "b86e6999-5681-47ab-985c-9f23c4041a49",
   "metadata": {},
   "outputs": [
    {
     "name": "stdout",
     "output_type": "stream",
     "text": [
      "0\n",
      "1984 2015\n",
      "0\n",
      "1984 2015\n"
     ]
    }
   ],
   "source": [
    "CAOsxañoE5 = CAO_añosE5(CAOS_MXgpE5(norteE5,t2mclimyearsuav_alineado,t2msuavstd_alineado),1979,2020)"
   ]
  },
  {
   "cell_type": "code",
   "execution_count": 87,
   "id": "39f7d6d9-c862-4335-ad48-8c7b2460ac10",
   "metadata": {},
   "outputs": [],
   "source": [
    "# Datos para graficar CAOs por año\n",
    "añosE5 =  CAOsxañoE5['añosE5']\n",
    "cantidad_eventosE5 = CAOsxañoE5['CAOs por año_E5']"
   ]
  },
  {
   "cell_type": "code",
   "execution_count": 90,
   "id": "70797761-d8bc-4504-9b86-a88033e2c457",
   "metadata": {},
   "outputs": [
    {
     "data": {
      "image/png": "[encoded data removed]",
      "text/plain": [
       "<Figure size 1400x700 with 4 Axes>"
      ]
     },
     "metadata": {},
     "output_type": "display_data"
    }
   ],
   "source": [
    "fig, axs = plt.subplots(2, 1, figsize=(14, 7))  # Crear subgráficos 2x1\n",
    "plt.subplots_adjust(hspace=0.6)  # Ajustar el espacio entre los subgráficos\n",
    "\n",
    "# Primer subplot - HadGEM\n",
    "ax1 = axs[0]\n",
    "ax1.plot(años, mean_POS, color='mediumvioletred', linewidth=1, label=\"Media\")\n",
    "ax1.fill_between(años, mean_POS + var_POS, mean_POS - var_POS, color='thistle', alpha=0.6, label=\"Varianza\")\n",
    "ax1.set_xlim([1979, 2014])\n",
    "ax1.set_xlabel(\"Años\", fontsize=12)\n",
    "ax1.set_ylabel('Latitud', fontsize=12)\n",
    "ax1.tick_params(axis='both', which='major', labelsize=10)\n",
    "ax1.set_title('a$)$ Posición del STJ y eventos CAO en HadGEM (1979-2014)', fontsize=13, color=\"k\", fontstyle='italic')\n",
    "ax1.grid(color='gray', linestyle='--', linewidth=0.5, alpha=0.7)\n",
    "ax1.legend()\n",
    "\n",
    "# Eventos CAO en el primer subplot\n",
    "ax1_twin = ax1.twinx()\n",
    "ax1_twin.scatter(años, cantidad_eventos, color='darkorange', alpha=0.7, label=\"Eventos CAO\")\n",
    "ax1_twin.set_ylim([-0.5, 10])\n",
    "ax1_twin.set_ylabel(\"Cantidad de eventos CAO\", color='k')\n",
    "ax1_twin.tick_params(axis='y', labelcolor='k')\n",
    "\n",
    "# Segundo subplot - ERA5\n",
    "ax2 = axs[1]\n",
    "ax2.plot(añosE5, E5mean_POS, color='mediumvioletred', linewidth=1, label=\"Media\")\n",
    "ax2.fill_between(añosE5, E5mean_POS + E5var_POS, E5mean_POS - E5var_POS, color='thistle', alpha=0.6, label=\"Varianza\")\n",
    "ax2.set_xlim([1979, 2014])\n",
    "ax2.set_xlabel(\"Años\", fontsize=12)\n",
    "ax2.set_ylabel('Latitud', fontsize=12)\n",
    "ax2.tick_params(axis='both', which='major', labelsize=10)\n",
    "ax2.set_title('b$)$ Posición del STJ y eventos CAO en ERA5 (1979-2019)', fontsize=13, color=\"k\", fontstyle='italic')\n",
    "ax2.grid(color='gray', linestyle='--', linewidth=0.5, alpha=0.7)\n",
    "ax2.legend()\n",
    "\n",
    "# Eventos CAO en el segundo subplot\n",
    "ax2_twin = ax2.twinx()\n",
    "ax2_twin.scatter(añosE5, cantidad_eventosE5, color='darkorange', alpha=0.7, label=\"Eventos CAO\")\n",
    "ax2_twin.set_ylim([-0.5, 10])\n",
    "ax2_twin.set_ylabel(\"Cantidad de eventos CAO\", color='k')\n",
    "ax2_twin.tick_params(axis='y', labelcolor='k')\n",
    "\n",
    "plt.tight_layout()\n",
    "plt.subplots_adjust(top=0.87) \n",
    "# plt.suptitle('Eventos invernales de CAO vs posición del STJ',fontsize=14,color=\"k\",fontstyle='italic',fontweight='bold');\n",
    "#plt.show()\n",
    "\n",
    "plt.savefig('figs/910_CAOsvsposicion')"
   ]
  }
 ],
 "metadata": {
  "kernelspec": {
   "display_name": "Python 3 (ipykernel)",
   "language": "python",
   "name": "python3"
  },
  "language_info": {
   "codemirror_mode": {
    "name": "ipython",
    "version": 3
   },
   "file_extension": ".py",
   "mimetype": "text/x-python",
   "name": "python",
   "nbconvert_exporter": "python",
   "pygments_lexer": "ipython3",
   "version": "3.11.6"
  }
 },
 "nbformat": 4,
 "nbformat_minor": 5
}
